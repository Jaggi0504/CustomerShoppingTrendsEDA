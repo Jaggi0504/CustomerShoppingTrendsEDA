{
 "cells": [
  {
   "cell_type": "code",
   "execution_count": 1,
   "id": "c5f86760",
   "metadata": {
    "_cell_guid": "b1076dfc-b9ad-4769-8c92-a6c4dae69d19",
    "_uuid": "8f2839f25d086af736a60e9eeb907d3b93b6e0e5",
    "execution": {
     "iopub.execute_input": "2025-01-04T22:25:22.287305Z",
     "iopub.status.busy": "2025-01-04T22:25:22.286914Z",
     "iopub.status.idle": "2025-01-04T22:25:24.409560Z",
     "shell.execute_reply": "2025-01-04T22:25:24.408345Z"
    },
    "papermill": {
     "duration": 2.136024,
     "end_time": "2025-01-04T22:25:24.411780",
     "exception": false,
     "start_time": "2025-01-04T22:25:22.275756",
     "status": "completed"
    },
    "tags": []
   },
   "outputs": [
    {
     "name": "stdout",
     "output_type": "stream",
     "text": [
      "/kaggle/input/customer-shopping-latest-trends-dataset/shopping_trends.csv\n"
     ]
    }
   ],
   "source": [
    "# This Python 3 environment comes with many helpful analytics libraries installed\n",
    "# It is defined by the kaggle/python Docker image: https://github.com/kaggle/docker-python\n",
    "# For example, here's several helpful packages to load\n",
    "\n",
    "import numpy as np # linear algebra\n",
    "import pandas as pd # data processing, CSV file I/O (e.g. pd.read_csv)\n",
    "import matplotlib.pyplot as plt\n",
    "import seaborn as sns\n",
    "\n",
    "# Input data files are available in the read-only \"../input/\" directory\n",
    "# For example, running this (by clicking run or pressing Shift+Enter) will list all files under the input directory\n",
    "\n",
    "import os\n",
    "for dirname, _, filenames in os.walk('/kaggle/input'):\n",
    "    for filename in filenames:\n",
    "        print(os.path.join(dirname, filename))\n",
    "\n",
    "# You can write up to 20GB to the current directory (/kaggle/working/) that gets preserved as output when you create a version using \"Save & Run All\" \n",
    "# You can also write temporary files to /kaggle/temp/, but they won't be saved outside of the current session"
   ]
  },
  {
   "cell_type": "code",
   "execution_count": 2,
   "id": "f1076d50",
   "metadata": {
    "execution": {
     "iopub.execute_input": "2025-01-04T22:25:24.432353Z",
     "iopub.status.busy": "2025-01-04T22:25:24.431803Z",
     "iopub.status.idle": "2025-01-04T22:25:24.471591Z",
     "shell.execute_reply": "2025-01-04T22:25:24.470455Z"
    },
    "papermill": {
     "duration": 0.052058,
     "end_time": "2025-01-04T22:25:24.473679",
     "exception": false,
     "start_time": "2025-01-04T22:25:24.421621",
     "status": "completed"
    },
    "tags": []
   },
   "outputs": [],
   "source": [
    "df = pd.read_csv(\"/kaggle/input/customer-shopping-latest-trends-dataset/shopping_trends.csv\")"
   ]
  },
  {
   "cell_type": "code",
   "execution_count": 3,
   "id": "6378aa38",
   "metadata": {
    "execution": {
     "iopub.execute_input": "2025-01-04T22:25:24.494520Z",
     "iopub.status.busy": "2025-01-04T22:25:24.494044Z",
     "iopub.status.idle": "2025-01-04T22:25:24.523689Z",
     "shell.execute_reply": "2025-01-04T22:25:24.522613Z"
    },
    "papermill": {
     "duration": 0.042632,
     "end_time": "2025-01-04T22:25:24.525860",
     "exception": false,
     "start_time": "2025-01-04T22:25:24.483228",
     "status": "completed"
    },
    "tags": []
   },
   "outputs": [
    {
     "data": {
      "text/html": [
       "<div>\n",
       "<style scoped>\n",
       "    .dataframe tbody tr th:only-of-type {\n",
       "        vertical-align: middle;\n",
       "    }\n",
       "\n",
       "    .dataframe tbody tr th {\n",
       "        vertical-align: top;\n",
       "    }\n",
       "\n",
       "    .dataframe thead th {\n",
       "        text-align: right;\n",
       "    }\n",
       "</style>\n",
       "<table border=\"1\" class=\"dataframe\">\n",
       "  <thead>\n",
       "    <tr style=\"text-align: right;\">\n",
       "      <th></th>\n",
       "      <th>Customer ID</th>\n",
       "      <th>Age</th>\n",
       "      <th>Gender</th>\n",
       "      <th>Item Purchased</th>\n",
       "      <th>Category</th>\n",
       "      <th>Purchase Amount (USD)</th>\n",
       "      <th>Location</th>\n",
       "      <th>Size</th>\n",
       "      <th>Color</th>\n",
       "      <th>Season</th>\n",
       "      <th>Review Rating</th>\n",
       "      <th>Subscription Status</th>\n",
       "      <th>Payment Method</th>\n",
       "      <th>Shipping Type</th>\n",
       "      <th>Discount Applied</th>\n",
       "      <th>Promo Code Used</th>\n",
       "      <th>Previous Purchases</th>\n",
       "      <th>Preferred Payment Method</th>\n",
       "      <th>Frequency of Purchases</th>\n",
       "    </tr>\n",
       "  </thead>\n",
       "  <tbody>\n",
       "    <tr>\n",
       "      <th>0</th>\n",
       "      <td>1</td>\n",
       "      <td>55</td>\n",
       "      <td>Male</td>\n",
       "      <td>Blouse</td>\n",
       "      <td>Clothing</td>\n",
       "      <td>53</td>\n",
       "      <td>Kentucky</td>\n",
       "      <td>L</td>\n",
       "      <td>Gray</td>\n",
       "      <td>Winter</td>\n",
       "      <td>3.1</td>\n",
       "      <td>Yes</td>\n",
       "      <td>Credit Card</td>\n",
       "      <td>Express</td>\n",
       "      <td>Yes</td>\n",
       "      <td>Yes</td>\n",
       "      <td>14</td>\n",
       "      <td>Venmo</td>\n",
       "      <td>Fortnightly</td>\n",
       "    </tr>\n",
       "    <tr>\n",
       "      <th>1</th>\n",
       "      <td>2</td>\n",
       "      <td>19</td>\n",
       "      <td>Male</td>\n",
       "      <td>Sweater</td>\n",
       "      <td>Clothing</td>\n",
       "      <td>64</td>\n",
       "      <td>Maine</td>\n",
       "      <td>L</td>\n",
       "      <td>Maroon</td>\n",
       "      <td>Winter</td>\n",
       "      <td>3.1</td>\n",
       "      <td>Yes</td>\n",
       "      <td>Bank Transfer</td>\n",
       "      <td>Express</td>\n",
       "      <td>Yes</td>\n",
       "      <td>Yes</td>\n",
       "      <td>2</td>\n",
       "      <td>Cash</td>\n",
       "      <td>Fortnightly</td>\n",
       "    </tr>\n",
       "    <tr>\n",
       "      <th>2</th>\n",
       "      <td>3</td>\n",
       "      <td>50</td>\n",
       "      <td>Male</td>\n",
       "      <td>Jeans</td>\n",
       "      <td>Clothing</td>\n",
       "      <td>73</td>\n",
       "      <td>Massachusetts</td>\n",
       "      <td>S</td>\n",
       "      <td>Maroon</td>\n",
       "      <td>Spring</td>\n",
       "      <td>3.1</td>\n",
       "      <td>Yes</td>\n",
       "      <td>Cash</td>\n",
       "      <td>Free Shipping</td>\n",
       "      <td>Yes</td>\n",
       "      <td>Yes</td>\n",
       "      <td>23</td>\n",
       "      <td>Credit Card</td>\n",
       "      <td>Weekly</td>\n",
       "    </tr>\n",
       "    <tr>\n",
       "      <th>3</th>\n",
       "      <td>4</td>\n",
       "      <td>21</td>\n",
       "      <td>Male</td>\n",
       "      <td>Sandals</td>\n",
       "      <td>Footwear</td>\n",
       "      <td>90</td>\n",
       "      <td>Rhode Island</td>\n",
       "      <td>M</td>\n",
       "      <td>Maroon</td>\n",
       "      <td>Spring</td>\n",
       "      <td>3.5</td>\n",
       "      <td>Yes</td>\n",
       "      <td>PayPal</td>\n",
       "      <td>Next Day Air</td>\n",
       "      <td>Yes</td>\n",
       "      <td>Yes</td>\n",
       "      <td>49</td>\n",
       "      <td>PayPal</td>\n",
       "      <td>Weekly</td>\n",
       "    </tr>\n",
       "    <tr>\n",
       "      <th>4</th>\n",
       "      <td>5</td>\n",
       "      <td>45</td>\n",
       "      <td>Male</td>\n",
       "      <td>Blouse</td>\n",
       "      <td>Clothing</td>\n",
       "      <td>49</td>\n",
       "      <td>Oregon</td>\n",
       "      <td>M</td>\n",
       "      <td>Turquoise</td>\n",
       "      <td>Spring</td>\n",
       "      <td>2.7</td>\n",
       "      <td>Yes</td>\n",
       "      <td>Cash</td>\n",
       "      <td>Free Shipping</td>\n",
       "      <td>Yes</td>\n",
       "      <td>Yes</td>\n",
       "      <td>31</td>\n",
       "      <td>PayPal</td>\n",
       "      <td>Annually</td>\n",
       "    </tr>\n",
       "  </tbody>\n",
       "</table>\n",
       "</div>"
      ],
      "text/plain": [
       "   Customer ID  Age Gender Item Purchased  Category  Purchase Amount (USD)  \\\n",
       "0            1   55   Male         Blouse  Clothing                     53   \n",
       "1            2   19   Male        Sweater  Clothing                     64   \n",
       "2            3   50   Male          Jeans  Clothing                     73   \n",
       "3            4   21   Male        Sandals  Footwear                     90   \n",
       "4            5   45   Male         Blouse  Clothing                     49   \n",
       "\n",
       "        Location Size      Color  Season  Review Rating Subscription Status  \\\n",
       "0       Kentucky    L       Gray  Winter            3.1                 Yes   \n",
       "1          Maine    L     Maroon  Winter            3.1                 Yes   \n",
       "2  Massachusetts    S     Maroon  Spring            3.1                 Yes   \n",
       "3   Rhode Island    M     Maroon  Spring            3.5                 Yes   \n",
       "4         Oregon    M  Turquoise  Spring            2.7                 Yes   \n",
       "\n",
       "  Payment Method  Shipping Type Discount Applied Promo Code Used  \\\n",
       "0    Credit Card        Express              Yes             Yes   \n",
       "1  Bank Transfer        Express              Yes             Yes   \n",
       "2           Cash  Free Shipping              Yes             Yes   \n",
       "3         PayPal   Next Day Air              Yes             Yes   \n",
       "4           Cash  Free Shipping              Yes             Yes   \n",
       "\n",
       "   Previous Purchases Preferred Payment Method Frequency of Purchases  \n",
       "0                  14                    Venmo            Fortnightly  \n",
       "1                   2                     Cash            Fortnightly  \n",
       "2                  23              Credit Card                 Weekly  \n",
       "3                  49                   PayPal                 Weekly  \n",
       "4                  31                   PayPal               Annually  "
      ]
     },
     "execution_count": 3,
     "metadata": {},
     "output_type": "execute_result"
    }
   ],
   "source": [
    "df.head()"
   ]
  },
  {
   "cell_type": "code",
   "execution_count": 4,
   "id": "d8283cdf",
   "metadata": {
    "execution": {
     "iopub.execute_input": "2025-01-04T22:25:24.547435Z",
     "iopub.status.busy": "2025-01-04T22:25:24.547029Z",
     "iopub.status.idle": "2025-01-04T22:25:24.553489Z",
     "shell.execute_reply": "2025-01-04T22:25:24.552374Z"
    },
    "papermill": {
     "duration": 0.019638,
     "end_time": "2025-01-04T22:25:24.555661",
     "exception": false,
     "start_time": "2025-01-04T22:25:24.536023",
     "status": "completed"
    },
    "tags": []
   },
   "outputs": [
    {
     "data": {
      "text/plain": [
       "(3900, 19)"
      ]
     },
     "execution_count": 4,
     "metadata": {},
     "output_type": "execute_result"
    }
   ],
   "source": [
    "df.shape"
   ]
  },
  {
   "cell_type": "code",
   "execution_count": 5,
   "id": "fe96f4e8",
   "metadata": {
    "execution": {
     "iopub.execute_input": "2025-01-04T22:25:24.577315Z",
     "iopub.status.busy": "2025-01-04T22:25:24.576769Z",
     "iopub.status.idle": "2025-01-04T22:25:24.590670Z",
     "shell.execute_reply": "2025-01-04T22:25:24.589495Z"
    },
    "papermill": {
     "duration": 0.026991,
     "end_time": "2025-01-04T22:25:24.592828",
     "exception": false,
     "start_time": "2025-01-04T22:25:24.565837",
     "status": "completed"
    },
    "tags": []
   },
   "outputs": [
    {
     "data": {
      "text/plain": [
       "Customer ID                 0\n",
       "Age                         0\n",
       "Gender                      0\n",
       "Item Purchased              0\n",
       "Category                    0\n",
       "Purchase Amount (USD)       0\n",
       "Location                    0\n",
       "Size                        0\n",
       "Color                       0\n",
       "Season                      0\n",
       "Review Rating               0\n",
       "Subscription Status         0\n",
       "Payment Method              0\n",
       "Shipping Type               0\n",
       "Discount Applied            0\n",
       "Promo Code Used             0\n",
       "Previous Purchases          0\n",
       "Preferred Payment Method    0\n",
       "Frequency of Purchases      0\n",
       "dtype: int64"
      ]
     },
     "execution_count": 5,
     "metadata": {},
     "output_type": "execute_result"
    }
   ],
   "source": [
    "df.isna().sum()"
   ]
  },
  {
   "cell_type": "code",
   "execution_count": 6,
   "id": "7a45a667",
   "metadata": {
    "execution": {
     "iopub.execute_input": "2025-01-04T22:25:24.614582Z",
     "iopub.status.busy": "2025-01-04T22:25:24.614204Z",
     "iopub.status.idle": "2025-01-04T22:25:24.635558Z",
     "shell.execute_reply": "2025-01-04T22:25:24.633739Z"
    },
    "papermill": {
     "duration": 0.034596,
     "end_time": "2025-01-04T22:25:24.637941",
     "exception": false,
     "start_time": "2025-01-04T22:25:24.603345",
     "status": "completed"
    },
    "tags": []
   },
   "outputs": [
    {
     "data": {
      "text/plain": [
       "0"
      ]
     },
     "execution_count": 6,
     "metadata": {},
     "output_type": "execute_result"
    }
   ],
   "source": [
    "df.duplicated().sum()"
   ]
  },
  {
   "cell_type": "code",
   "execution_count": 7,
   "id": "87704325",
   "metadata": {
    "execution": {
     "iopub.execute_input": "2025-01-04T22:25:24.659664Z",
     "iopub.status.busy": "2025-01-04T22:25:24.659283Z",
     "iopub.status.idle": "2025-01-04T22:25:24.684391Z",
     "shell.execute_reply": "2025-01-04T22:25:24.682923Z"
    },
    "papermill": {
     "duration": 0.038295,
     "end_time": "2025-01-04T22:25:24.686336",
     "exception": false,
     "start_time": "2025-01-04T22:25:24.648041",
     "status": "completed"
    },
    "tags": []
   },
   "outputs": [
    {
     "name": "stdout",
     "output_type": "stream",
     "text": [
      "<class 'pandas.core.frame.DataFrame'>\n",
      "RangeIndex: 3900 entries, 0 to 3899\n",
      "Data columns (total 19 columns):\n",
      " #   Column                    Non-Null Count  Dtype  \n",
      "---  ------                    --------------  -----  \n",
      " 0   Customer ID               3900 non-null   int64  \n",
      " 1   Age                       3900 non-null   int64  \n",
      " 2   Gender                    3900 non-null   object \n",
      " 3   Item Purchased            3900 non-null   object \n",
      " 4   Category                  3900 non-null   object \n",
      " 5   Purchase Amount (USD)     3900 non-null   int64  \n",
      " 6   Location                  3900 non-null   object \n",
      " 7   Size                      3900 non-null   object \n",
      " 8   Color                     3900 non-null   object \n",
      " 9   Season                    3900 non-null   object \n",
      " 10  Review Rating             3900 non-null   float64\n",
      " 11  Subscription Status       3900 non-null   object \n",
      " 12  Payment Method            3900 non-null   object \n",
      " 13  Shipping Type             3900 non-null   object \n",
      " 14  Discount Applied          3900 non-null   object \n",
      " 15  Promo Code Used           3900 non-null   object \n",
      " 16  Previous Purchases        3900 non-null   int64  \n",
      " 17  Preferred Payment Method  3900 non-null   object \n",
      " 18  Frequency of Purchases    3900 non-null   object \n",
      "dtypes: float64(1), int64(4), object(14)\n",
      "memory usage: 579.0+ KB\n"
     ]
    }
   ],
   "source": [
    "df.info()"
   ]
  },
  {
   "cell_type": "code",
   "execution_count": 8,
   "id": "c00d6714",
   "metadata": {
    "execution": {
     "iopub.execute_input": "2025-01-04T22:25:24.708396Z",
     "iopub.status.busy": "2025-01-04T22:25:24.707976Z",
     "iopub.status.idle": "2025-01-04T22:25:24.716888Z",
     "shell.execute_reply": "2025-01-04T22:25:24.715725Z"
    },
    "papermill": {
     "duration": 0.022199,
     "end_time": "2025-01-04T22:25:24.718699",
     "exception": false,
     "start_time": "2025-01-04T22:25:24.696500",
     "status": "completed"
    },
    "tags": []
   },
   "outputs": [],
   "source": [
    "df.drop(columns=['Customer ID'], inplace=True)"
   ]
  },
  {
   "cell_type": "code",
   "execution_count": 9,
   "id": "28145657",
   "metadata": {
    "execution": {
     "iopub.execute_input": "2025-01-04T22:25:24.740252Z",
     "iopub.status.busy": "2025-01-04T22:25:24.739742Z",
     "iopub.status.idle": "2025-01-04T22:25:24.746112Z",
     "shell.execute_reply": "2025-01-04T22:25:24.744824Z"
    },
    "papermill": {
     "duration": 0.019717,
     "end_time": "2025-01-04T22:25:24.748433",
     "exception": false,
     "start_time": "2025-01-04T22:25:24.728716",
     "status": "completed"
    },
    "tags": []
   },
   "outputs": [
    {
     "data": {
      "text/plain": [
       "(3900, 18)"
      ]
     },
     "execution_count": 9,
     "metadata": {},
     "output_type": "execute_result"
    }
   ],
   "source": [
    "df.shape"
   ]
  },
  {
   "cell_type": "code",
   "execution_count": 10,
   "id": "6691ad2b",
   "metadata": {
    "execution": {
     "iopub.execute_input": "2025-01-04T22:25:24.769897Z",
     "iopub.status.busy": "2025-01-04T22:25:24.769568Z",
     "iopub.status.idle": "2025-01-04T22:25:24.787380Z",
     "shell.execute_reply": "2025-01-04T22:25:24.786231Z"
    },
    "papermill": {
     "duration": 0.030595,
     "end_time": "2025-01-04T22:25:24.789308",
     "exception": false,
     "start_time": "2025-01-04T22:25:24.758713",
     "status": "completed"
    },
    "tags": []
   },
   "outputs": [
    {
     "name": "stdout",
     "output_type": "stream",
     "text": [
      "Gender: ['Male' 'Female'] \n",
      "\n",
      "Item Purchased: ['Blouse' 'Sweater' 'Jeans' 'Sandals' 'Sneakers' 'Shirt' 'Shorts' 'Coat'\n",
      " 'Handbag' 'Shoes' 'Dress' 'Skirt' 'Sunglasses' 'Pants' 'Jacket' 'Hoodie'\n",
      " 'Jewelry' 'T-shirt' 'Scarf' 'Hat' 'Socks' 'Backpack' 'Belt' 'Boots'\n",
      " 'Gloves'] \n",
      "\n",
      "Category: ['Clothing' 'Footwear' 'Outerwear' 'Accessories'] \n",
      "\n",
      "Location: ['Kentucky' 'Maine' 'Massachusetts' 'Rhode Island' 'Oregon' 'Wyoming'\n",
      " 'Montana' 'Louisiana' 'West Virginia' 'Missouri' 'Arkansas' 'Hawaii'\n",
      " 'Delaware' 'New Hampshire' 'New York' 'Alabama' 'Mississippi'\n",
      " 'North Carolina' 'California' 'Oklahoma' 'Florida' 'Texas' 'Nevada'\n",
      " 'Kansas' 'Colorado' 'North Dakota' 'Illinois' 'Indiana' 'Arizona'\n",
      " 'Alaska' 'Tennessee' 'Ohio' 'New Jersey' 'Maryland' 'Vermont'\n",
      " 'New Mexico' 'South Carolina' 'Idaho' 'Pennsylvania' 'Connecticut' 'Utah'\n",
      " 'Virginia' 'Georgia' 'Nebraska' 'Iowa' 'South Dakota' 'Minnesota'\n",
      " 'Washington' 'Wisconsin' 'Michigan'] \n",
      "\n",
      "Size: ['L' 'S' 'M' 'XL'] \n",
      "\n",
      "Color: ['Gray' 'Maroon' 'Turquoise' 'White' 'Charcoal' 'Silver' 'Pink' 'Purple'\n",
      " 'Olive' 'Gold' 'Violet' 'Teal' 'Lavender' 'Black' 'Green' 'Peach' 'Red'\n",
      " 'Cyan' 'Brown' 'Beige' 'Orange' 'Indigo' 'Yellow' 'Magenta' 'Blue'] \n",
      "\n",
      "Season: ['Winter' 'Spring' 'Summer' 'Fall'] \n",
      "\n",
      "Subscription Status: ['Yes' 'No'] \n",
      "\n",
      "Payment Method: ['Credit Card' 'Bank Transfer' 'Cash' 'PayPal' 'Venmo' 'Debit Card'] \n",
      "\n",
      "Shipping Type: ['Express' 'Free Shipping' 'Next Day Air' 'Standard' '2-Day Shipping'\n",
      " 'Store Pickup'] \n",
      "\n",
      "Discount Applied: ['Yes' 'No'] \n",
      "\n",
      "Promo Code Used: ['Yes' 'No'] \n",
      "\n",
      "Preferred Payment Method: ['Venmo' 'Cash' 'Credit Card' 'PayPal' 'Bank Transfer' 'Debit Card'] \n",
      "\n",
      "Frequency of Purchases: ['Fortnightly' 'Weekly' 'Annually' 'Quarterly' 'Bi-Weekly' 'Monthly'\n",
      " 'Every 3 Months'] \n",
      "\n"
     ]
    }
   ],
   "source": [
    "object_cols=['Gender', 'Item Purchased', 'Category', 'Location', 'Size', 'Color', 'Season', 'Subscription Status', 'Payment Method', 'Shipping Type', 'Discount Applied', 'Promo Code Used', 'Preferred Payment Method', 'Frequency of Purchases']\n",
    "for i in object_cols:\n",
    "    print(f'{i}:', df[i].unique(), \"\\n\")"
   ]
  },
  {
   "cell_type": "code",
   "execution_count": 11,
   "id": "ebe383c6",
   "metadata": {
    "execution": {
     "iopub.execute_input": "2025-01-04T22:25:24.810474Z",
     "iopub.status.busy": "2025-01-04T22:25:24.810074Z",
     "iopub.status.idle": "2025-01-04T22:25:24.955788Z",
     "shell.execute_reply": "2025-01-04T22:25:24.954483Z"
    },
    "papermill": {
     "duration": 0.158776,
     "end_time": "2025-01-04T22:25:24.958141",
     "exception": false,
     "start_time": "2025-01-04T22:25:24.799365",
     "status": "completed"
    },
    "tags": []
   },
   "outputs": [
    {
     "data": {
      "image/png": "[encoded data removed]",
      "text/plain": [
       "<Figure size 640x480 with 1 Axes>"
      ]
     },
     "metadata": {},
     "output_type": "display_data"
    }
   ],
   "source": [
    "labels=['Male', 'Female']\n",
    "plt.pie(df['Gender'].value_counts(), autopct='%1.1f%%', labels=labels)\n",
    "plt.show()"
   ]
  },
  {
   "cell_type": "markdown",
   "id": "feee3686",
   "metadata": {
    "papermill": {
     "duration": 0.019592,
     "end_time": "2025-01-04T22:25:24.999935",
     "exception": false,
     "start_time": "2025-01-04T22:25:24.980343",
     "status": "completed"
    },
    "tags": []
   },
   "source": [
    "### The above graph is important because we can see the distribution of genders. We are getting more male customers, which means we have to serve our male customers and meet their needs in order to retain them. We are getting very few female customers which means we have to focus on our inventory and do some competition analysis to find out what the other competitors are selling so that we can keep those brands/SKUs and increase our female customer base and serve their needs as well"
   ]
  },
  {
   "cell_type": "code",
   "execution_count": 12,
   "id": "f81c62de",
   "metadata": {
    "execution": {
     "iopub.execute_input": "2025-01-04T22:25:25.032378Z",
     "iopub.status.busy": "2025-01-04T22:25:25.031899Z",
     "iopub.status.idle": "2025-01-04T22:25:25.118912Z",
     "shell.execute_reply": "2025-01-04T22:25:25.117633Z"
    },
    "papermill": {
     "duration": 0.101761,
     "end_time": "2025-01-04T22:25:25.121305",
     "exception": false,
     "start_time": "2025-01-04T22:25:25.019544",
     "status": "completed"
    },
    "tags": []
   },
   "outputs": [
    {
     "data": {
      "image/png": "[encoded data removed]",
      "text/plain": [
       "<Figure size 640x480 with 1 Axes>"
      ]
     },
     "metadata": {},
     "output_type": "display_data"
    }
   ],
   "source": [
    "labels=['No', 'Yes']\n",
    "plt.pie(df['Subscription Status'].value_counts(), autopct='%1.1f%%', labels=labels)\n",
    "plt.show()"
   ]
  },
  {
   "cell_type": "markdown",
   "id": "091b60b3",
   "metadata": {
    "papermill": {
     "duration": 0.019837,
     "end_time": "2025-01-04T22:25:25.162344",
     "exception": false,
     "start_time": "2025-01-04T22:25:25.142507",
     "status": "completed"
    },
    "tags": []
   },
   "source": [
    "### The above graph is important because of RFM (Recency, Frequency and Monetary) analysis in retail. In order to retain the customers and enroll them for loyalty programs we have to make more subscriptions. These days, we see most of the companies push their customers to go for the master cards or loyalty cards so that the companies can retain the customers by giving personalized recommendations to the customers by giving them discounts etc and build a loyal customer base"
   ]
  },
  {
   "cell_type": "code",
   "execution_count": 13,
   "id": "f0391340",
   "metadata": {
    "execution": {
     "iopub.execute_input": "2025-01-04T22:25:25.205330Z",
     "iopub.status.busy": "2025-01-04T22:25:25.204713Z",
     "iopub.status.idle": "2025-01-04T22:25:25.425379Z",
     "shell.execute_reply": "2025-01-04T22:25:25.424255Z"
    },
    "papermill": {
     "duration": 0.244401,
     "end_time": "2025-01-04T22:25:25.427140",
     "exception": false,
     "start_time": "2025-01-04T22:25:25.182739",
     "status": "completed"
    },
    "tags": []
   },
   "outputs": [
    {
     "data": {
      "image/png": "[encoded data removed]",
      "text/plain": [
       "<Figure size 640x480 with 1 Axes>"
      ]
     },
     "metadata": {},
     "output_type": "display_data"
    }
   ],
   "source": [
    "ax=sns.countplot(x='Category', data=df)\n",
    "for bars in ax.containers:\n",
    "    plt.bar_label(bars)\n",
    "plt.show()"
   ]
  },
  {
   "cell_type": "markdown",
   "id": "448f634a",
   "metadata": {
    "execution": {
     "iopub.execute_input": "2024-12-23T03:20:19.165579Z",
     "iopub.status.busy": "2024-12-23T03:20:19.165149Z",
     "iopub.status.idle": "2024-12-23T03:20:19.174166Z",
     "shell.execute_reply": "2024-12-23T03:20:19.172501Z",
     "shell.execute_reply.started": "2024-12-23T03:20:19.165549Z"
    },
    "papermill": {
     "duration": 0.010876,
     "end_time": "2025-01-04T22:25:25.449281",
     "exception": false,
     "start_time": "2025-01-04T22:25:25.438405",
     "status": "completed"
    },
    "tags": []
   },
   "source": [
    "### The above graph is important because we want to see why customers are coming to our store. We see that a lot of people come to buy clothes and accessories. We can run promotions or give discounts to the customers for footwear and outerwear so that we can sell more of our inventory and work on KPIs like sell-through rate, inventory turnover, etc. Also, it is important to do a competition analysis to understand why the customers are coming to our store for footwear and outerwear and why they are going to the competition. Potential reasons could be: \n",
    "### 1. Good discounts\n",
    "### 2. More variety/Width of products\n",
    "### 3. More depth of products example kids, youth, adults, old etc."
   ]
  },
  {
   "cell_type": "code",
   "execution_count": 14,
   "id": "4625dfa9",
   "metadata": {
    "execution": {
     "iopub.execute_input": "2025-01-04T22:25:25.473649Z",
     "iopub.status.busy": "2025-01-04T22:25:25.473283Z",
     "iopub.status.idle": "2025-01-04T22:25:25.678869Z",
     "shell.execute_reply": "2025-01-04T22:25:25.677828Z"
    },
    "papermill": {
     "duration": 0.219712,
     "end_time": "2025-01-04T22:25:25.680699",
     "exception": false,
     "start_time": "2025-01-04T22:25:25.460987",
     "status": "completed"
    },
    "tags": []
   },
   "outputs": [
    {
     "data": {
      "image/png": "[encoded data removed]",
      "text/plain": [
       "<Figure size 640x480 with 1 Axes>"
      ]
     },
     "metadata": {},
     "output_type": "display_data"
    }
   ],
   "source": [
    "ax=sns.countplot(x='Size', data=df)\n",
    "for bars in ax.containers:\n",
    "    plt.bar_label(bars)\n",
    "plt.show()"
   ]
  },
  {
   "cell_type": "code",
   "execution_count": 15,
   "id": "5e8b6146",
   "metadata": {
    "execution": {
     "iopub.execute_input": "2025-01-04T22:25:25.705346Z",
     "iopub.status.busy": "2025-01-04T22:25:25.704890Z",
     "iopub.status.idle": "2025-01-04T22:25:25.903947Z",
     "shell.execute_reply": "2025-01-04T22:25:25.902505Z"
    },
    "papermill": {
     "duration": 0.213436,
     "end_time": "2025-01-04T22:25:25.905872",
     "exception": false,
     "start_time": "2025-01-04T22:25:25.692436",
     "status": "completed"
    },
    "tags": []
   },
   "outputs": [
    {
     "data": {
      "image/png": "[encoded data removed]",
      "text/plain": [
       "<Figure size 640x480 with 1 Axes>"
      ]
     },
     "metadata": {},
     "output_type": "display_data"
    }
   ],
   "source": [
    "ax=sns.countplot(x='Season', data=df)\n",
    "for bars in ax.containers:\n",
    "    plt.bar_label(bars)\n",
    "plt.show()"
   ]
  },
  {
   "cell_type": "code",
   "execution_count": 16,
   "id": "625dd4cc",
   "metadata": {
    "execution": {
     "iopub.execute_input": "2025-01-04T22:25:25.931169Z",
     "iopub.status.busy": "2025-01-04T22:25:25.930766Z",
     "iopub.status.idle": "2025-01-04T22:25:26.171662Z",
     "shell.execute_reply": "2025-01-04T22:25:26.170298Z"
    },
    "papermill": {
     "duration": 0.255634,
     "end_time": "2025-01-04T22:25:26.173557",
     "exception": false,
     "start_time": "2025-01-04T22:25:25.917923",
     "status": "completed"
    },
    "tags": []
   },
   "outputs": [
    {
     "data": {
      "image/png": "[encoded data removed]",
      "text/plain": [
       "<Figure size 640x480 with 1 Axes>"
      ]
     },
     "metadata": {},
     "output_type": "display_data"
    }
   ],
   "source": [
    "ax=sns.countplot(x='Payment Method', data=df)\n",
    "for bars in ax.containers:\n",
    "    plt.bar_label(bars)\n",
    "plt.xticks(rotation=45)\n",
    "plt.show()"
   ]
  },
  {
   "cell_type": "code",
   "execution_count": 17,
   "id": "27a4818a",
   "metadata": {
    "execution": {
     "iopub.execute_input": "2025-01-04T22:25:26.200668Z",
     "iopub.status.busy": "2025-01-04T22:25:26.200325Z",
     "iopub.status.idle": "2025-01-04T22:25:26.295227Z",
     "shell.execute_reply": "2025-01-04T22:25:26.293938Z"
    },
    "papermill": {
     "duration": 0.111706,
     "end_time": "2025-01-04T22:25:26.298118",
     "exception": false,
     "start_time": "2025-01-04T22:25:26.186412",
     "status": "completed"
    },
    "tags": []
   },
   "outputs": [
    {
     "data": {
      "image/png": "[encoded data removed]",
      "text/plain": [
       "<Figure size 640x480 with 1 Axes>"
      ]
     },
     "metadata": {},
     "output_type": "display_data"
    }
   ],
   "source": [
    "labels=['No', 'Yes']\n",
    "plt.pie(df['Discount Applied'].value_counts(), autopct='%1.1f%%', labels=labels)\n",
    "plt.show()"
   ]
  },
  {
   "cell_type": "markdown",
   "id": "c483ffc9",
   "metadata": {
    "papermill": {
     "duration": 0.027242,
     "end_time": "2025-01-04T22:25:26.352320",
     "exception": false,
     "start_time": "2025-01-04T22:25:26.325078",
     "status": "completed"
    },
    "tags": []
   },
   "source": [
    "### The above graph is important to understand that when most of our customers are coming to the store and making the purchases."
   ]
  },
  {
   "cell_type": "code",
   "execution_count": 18,
   "id": "2d882a1b",
   "metadata": {
    "execution": {
     "iopub.execute_input": "2025-01-04T22:25:26.396430Z",
     "iopub.status.busy": "2025-01-04T22:25:26.395998Z",
     "iopub.status.idle": "2025-01-04T22:25:26.404745Z",
     "shell.execute_reply": "2025-01-04T22:25:26.403424Z"
    },
    "papermill": {
     "duration": 0.026886,
     "end_time": "2025-01-04T22:25:26.406859",
     "exception": false,
     "start_time": "2025-01-04T22:25:26.379973",
     "status": "completed"
    },
    "tags": []
   },
   "outputs": [],
   "source": [
    "sum_sales_by_location=df.groupby(['Location'], as_index=False).agg({'Purchase Amount (USD)': 'sum'}).sort_values(by='Purchase Amount (USD)', ascending=False)"
   ]
  },
  {
   "cell_type": "code",
   "execution_count": 19,
   "id": "ef15e3e7",
   "metadata": {
    "execution": {
     "iopub.execute_input": "2025-01-04T22:25:26.434337Z",
     "iopub.status.busy": "2025-01-04T22:25:26.433874Z",
     "iopub.status.idle": "2025-01-04T22:25:26.443345Z",
     "shell.execute_reply": "2025-01-04T22:25:26.442257Z"
    },
    "papermill": {
     "duration": 0.02529,
     "end_time": "2025-01-04T22:25:26.445292",
     "exception": false,
     "start_time": "2025-01-04T22:25:26.420002",
     "status": "completed"
    },
    "tags": []
   },
   "outputs": [
    {
     "data": {
      "text/html": [
       "<div>\n",
       "<style scoped>\n",
       "    .dataframe tbody tr th:only-of-type {\n",
       "        vertical-align: middle;\n",
       "    }\n",
       "\n",
       "    .dataframe tbody tr th {\n",
       "        vertical-align: top;\n",
       "    }\n",
       "\n",
       "    .dataframe thead th {\n",
       "        text-align: right;\n",
       "    }\n",
       "</style>\n",
       "<table border=\"1\" class=\"dataframe\">\n",
       "  <thead>\n",
       "    <tr style=\"text-align: right;\">\n",
       "      <th></th>\n",
       "      <th>Location</th>\n",
       "      <th>Purchase Amount (USD)</th>\n",
       "    </tr>\n",
       "  </thead>\n",
       "  <tbody>\n",
       "    <tr>\n",
       "      <th>25</th>\n",
       "      <td>Montana</td>\n",
       "      <td>5784</td>\n",
       "    </tr>\n",
       "    <tr>\n",
       "      <th>12</th>\n",
       "      <td>Illinois</td>\n",
       "      <td>5617</td>\n",
       "    </tr>\n",
       "    <tr>\n",
       "      <th>4</th>\n",
       "      <td>California</td>\n",
       "      <td>5605</td>\n",
       "    </tr>\n",
       "    <tr>\n",
       "      <th>11</th>\n",
       "      <td>Idaho</td>\n",
       "      <td>5587</td>\n",
       "    </tr>\n",
       "    <tr>\n",
       "      <th>27</th>\n",
       "      <td>Nevada</td>\n",
       "      <td>5514</td>\n",
       "    </tr>\n",
       "    <tr>\n",
       "      <th>0</th>\n",
       "      <td>Alabama</td>\n",
       "      <td>5261</td>\n",
       "    </tr>\n",
       "    <tr>\n",
       "      <th>31</th>\n",
       "      <td>New York</td>\n",
       "      <td>5257</td>\n",
       "    </tr>\n",
       "    <tr>\n",
       "      <th>33</th>\n",
       "      <td>North Dakota</td>\n",
       "      <td>5220</td>\n",
       "    </tr>\n",
       "    <tr>\n",
       "      <th>47</th>\n",
       "      <td>West Virginia</td>\n",
       "      <td>5174</td>\n",
       "    </tr>\n",
       "    <tr>\n",
       "      <th>26</th>\n",
       "      <td>Nebraska</td>\n",
       "      <td>5172</td>\n",
       "    </tr>\n",
       "  </tbody>\n",
       "</table>\n",
       "</div>"
      ],
      "text/plain": [
       "         Location  Purchase Amount (USD)\n",
       "25        Montana                   5784\n",
       "12       Illinois                   5617\n",
       "4      California                   5605\n",
       "11          Idaho                   5587\n",
       "27         Nevada                   5514\n",
       "0         Alabama                   5261\n",
       "31       New York                   5257\n",
       "33   North Dakota                   5220\n",
       "47  West Virginia                   5174\n",
       "26       Nebraska                   5172"
      ]
     },
     "execution_count": 19,
     "metadata": {},
     "output_type": "execute_result"
    }
   ],
   "source": [
    "sum_sales_by_location.head(10)"
   ]
  },
  {
   "cell_type": "code",
   "execution_count": 20,
   "id": "edb5c4bc",
   "metadata": {
    "execution": {
     "iopub.execute_input": "2025-01-04T22:25:26.474912Z",
     "iopub.status.busy": "2025-01-04T22:25:26.474523Z",
     "iopub.status.idle": "2025-01-04T22:25:26.484545Z",
     "shell.execute_reply": "2025-01-04T22:25:26.483305Z"
    },
    "papermill": {
     "duration": 0.026861,
     "end_time": "2025-01-04T22:25:26.486291",
     "exception": false,
     "start_time": "2025-01-04T22:25:26.459430",
     "status": "completed"
    },
    "tags": []
   },
   "outputs": [
    {
     "data": {
      "text/html": [
       "<div>\n",
       "<style scoped>\n",
       "    .dataframe tbody tr th:only-of-type {\n",
       "        vertical-align: middle;\n",
       "    }\n",
       "\n",
       "    .dataframe tbody tr th {\n",
       "        vertical-align: top;\n",
       "    }\n",
       "\n",
       "    .dataframe thead th {\n",
       "        text-align: right;\n",
       "    }\n",
       "</style>\n",
       "<table border=\"1\" class=\"dataframe\">\n",
       "  <thead>\n",
       "    <tr style=\"text-align: right;\">\n",
       "      <th></th>\n",
       "      <th>Location</th>\n",
       "      <th>Purchase Amount (USD)</th>\n",
       "    </tr>\n",
       "  </thead>\n",
       "  <tbody>\n",
       "    <tr>\n",
       "      <th>6</th>\n",
       "      <td>Connecticut</td>\n",
       "      <td>4226</td>\n",
       "    </tr>\n",
       "    <tr>\n",
       "      <th>5</th>\n",
       "      <td>Colorado</td>\n",
       "      <td>4222</td>\n",
       "    </tr>\n",
       "    <tr>\n",
       "      <th>28</th>\n",
       "      <td>New Hampshire</td>\n",
       "      <td>4219</td>\n",
       "    </tr>\n",
       "    <tr>\n",
       "      <th>14</th>\n",
       "      <td>Iowa</td>\n",
       "      <td>4201</td>\n",
       "    </tr>\n",
       "    <tr>\n",
       "      <th>48</th>\n",
       "      <td>Wisconsin</td>\n",
       "      <td>4196</td>\n",
       "    </tr>\n",
       "    <tr>\n",
       "      <th>38</th>\n",
       "      <td>Rhode Island</td>\n",
       "      <td>3871</td>\n",
       "    </tr>\n",
       "    <tr>\n",
       "      <th>29</th>\n",
       "      <td>New Jersey</td>\n",
       "      <td>3802</td>\n",
       "    </tr>\n",
       "    <tr>\n",
       "      <th>8</th>\n",
       "      <td>Florida</td>\n",
       "      <td>3798</td>\n",
       "    </tr>\n",
       "    <tr>\n",
       "      <th>10</th>\n",
       "      <td>Hawaii</td>\n",
       "      <td>3752</td>\n",
       "    </tr>\n",
       "    <tr>\n",
       "      <th>15</th>\n",
       "      <td>Kansas</td>\n",
       "      <td>3437</td>\n",
       "    </tr>\n",
       "  </tbody>\n",
       "</table>\n",
       "</div>"
      ],
      "text/plain": [
       "         Location  Purchase Amount (USD)\n",
       "6     Connecticut                   4226\n",
       "5        Colorado                   4222\n",
       "28  New Hampshire                   4219\n",
       "14           Iowa                   4201\n",
       "48      Wisconsin                   4196\n",
       "38   Rhode Island                   3871\n",
       "29     New Jersey                   3802\n",
       "8         Florida                   3798\n",
       "10         Hawaii                   3752\n",
       "15         Kansas                   3437"
      ]
     },
     "execution_count": 20,
     "metadata": {},
     "output_type": "execute_result"
    }
   ],
   "source": [
    "sum_sales_by_location.tail(10)"
   ]
  },
  {
   "cell_type": "markdown",
   "id": "44e3f073",
   "metadata": {
    "execution": {
     "iopub.execute_input": "2024-12-25T01:16:17.297300Z",
     "iopub.status.busy": "2024-12-25T01:16:17.296871Z",
     "iopub.status.idle": "2024-12-25T01:16:17.305484Z",
     "shell.execute_reply": "2024-12-25T01:16:17.303877Z",
     "shell.execute_reply.started": "2024-12-25T01:16:17.297254Z"
    },
    "papermill": {
     "duration": 0.013572,
     "end_time": "2025-01-04T22:25:26.513448",
     "exception": false,
     "start_time": "2025-01-04T22:25:26.499876",
     "status": "completed"
    },
    "tags": []
   },
   "source": [
    "### The above two dataframes are important to understand which location is giving us the best sale and which is giving the worst. By this, we can strategize the sales by location. For example, for the top-selling store, we can work on the inventory because the inventory turnover could be high. We can also use ML algorithms to predict the sales of the store and use regression analysis to keep the stock in the inventory and not disappoint the customers. For the location where we have the lowest sales, we have to understand why the sales are low. Potential reasons could be:\n",
    "### 1. Do we have sufficient inventory?\n",
    "### 2. Is the inventory managed properly\n",
    "### 3. Are the associates or leads talking to the customers properly and educating them about the products?\n",
    "### 4. Is the POS system working properly?\n",
    "### 5. Understanding the demographics of location to fulfill the needs of the customers who visit the store. "
   ]
  },
  {
   "cell_type": "code",
   "execution_count": 21,
   "id": "52f1aaf4",
   "metadata": {
    "execution": {
     "iopub.execute_input": "2025-01-04T22:25:26.542677Z",
     "iopub.status.busy": "2025-01-04T22:25:26.542302Z",
     "iopub.status.idle": "2025-01-04T22:25:26.557756Z",
     "shell.execute_reply": "2025-01-04T22:25:26.556656Z"
    },
    "papermill": {
     "duration": 0.032637,
     "end_time": "2025-01-04T22:25:26.559849",
     "exception": false,
     "start_time": "2025-01-04T22:25:26.527212",
     "status": "completed"
    },
    "tags": []
   },
   "outputs": [
    {
     "data": {
      "text/html": [
       "<div>\n",
       "<style scoped>\n",
       "    .dataframe tbody tr th:only-of-type {\n",
       "        vertical-align: middle;\n",
       "    }\n",
       "\n",
       "    .dataframe tbody tr th {\n",
       "        vertical-align: top;\n",
       "    }\n",
       "\n",
       "    .dataframe thead th {\n",
       "        text-align: right;\n",
       "    }\n",
       "</style>\n",
       "<table border=\"1\" class=\"dataframe\">\n",
       "  <thead>\n",
       "    <tr style=\"text-align: right;\">\n",
       "      <th></th>\n",
       "      <th>Location</th>\n",
       "      <th>Category</th>\n",
       "      <th>Purchase Amount (USD)</th>\n",
       "    </tr>\n",
       "  </thead>\n",
       "  <tbody>\n",
       "    <tr>\n",
       "      <th>101</th>\n",
       "      <td>Montana</td>\n",
       "      <td>Clothing</td>\n",
       "      <td>2768</td>\n",
       "    </tr>\n",
       "    <tr>\n",
       "      <th>17</th>\n",
       "      <td>California</td>\n",
       "      <td>Clothing</td>\n",
       "      <td>2740</td>\n",
       "    </tr>\n",
       "    <tr>\n",
       "      <th>69</th>\n",
       "      <td>Louisiana</td>\n",
       "      <td>Clothing</td>\n",
       "      <td>2562</td>\n",
       "    </tr>\n",
       "    <tr>\n",
       "      <th>89</th>\n",
       "      <td>Minnesota</td>\n",
       "      <td>Clothing</td>\n",
       "      <td>2518</td>\n",
       "    </tr>\n",
       "    <tr>\n",
       "      <th>109</th>\n",
       "      <td>Nevada</td>\n",
       "      <td>Clothing</td>\n",
       "      <td>2515</td>\n",
       "    </tr>\n",
       "    <tr>\n",
       "      <th>49</th>\n",
       "      <td>Illinois</td>\n",
       "      <td>Clothing</td>\n",
       "      <td>2508</td>\n",
       "    </tr>\n",
       "    <tr>\n",
       "      <th>45</th>\n",
       "      <td>Idaho</td>\n",
       "      <td>Clothing</td>\n",
       "      <td>2472</td>\n",
       "    </tr>\n",
       "    <tr>\n",
       "      <th>141</th>\n",
       "      <td>Oklahoma</td>\n",
       "      <td>Clothing</td>\n",
       "      <td>2464</td>\n",
       "    </tr>\n",
       "    <tr>\n",
       "      <th>177</th>\n",
       "      <td>Vermont</td>\n",
       "      <td>Clothing</td>\n",
       "      <td>2426</td>\n",
       "    </tr>\n",
       "    <tr>\n",
       "      <th>13</th>\n",
       "      <td>Arkansas</td>\n",
       "      <td>Clothing</td>\n",
       "      <td>2413</td>\n",
       "    </tr>\n",
       "  </tbody>\n",
       "</table>\n",
       "</div>"
      ],
      "text/plain": [
       "       Location  Category  Purchase Amount (USD)\n",
       "101     Montana  Clothing                   2768\n",
       "17   California  Clothing                   2740\n",
       "69    Louisiana  Clothing                   2562\n",
       "89    Minnesota  Clothing                   2518\n",
       "109      Nevada  Clothing                   2515\n",
       "49     Illinois  Clothing                   2508\n",
       "45        Idaho  Clothing                   2472\n",
       "141    Oklahoma  Clothing                   2464\n",
       "177     Vermont  Clothing                   2426\n",
       "13     Arkansas  Clothing                   2413"
      ]
     },
     "execution_count": 21,
     "metadata": {},
     "output_type": "execute_result"
    }
   ],
   "source": [
    "sales_by_category_and_location=df.groupby(['Location', 'Category'], as_index=False).agg({'Purchase Amount (USD)': 'sum'}).sort_values(by='Purchase Amount (USD)', ascending=False)\n",
    "sales_by_category_and_location.head(10)"
   ]
  },
  {
   "cell_type": "markdown",
   "id": "009c5427",
   "metadata": {
    "papermill": {
     "duration": 0.013366,
     "end_time": "2025-01-04T22:25:26.587476",
     "exception": false,
     "start_time": "2025-01-04T22:25:26.574110",
     "status": "completed"
    },
    "tags": []
   },
   "source": [
    "### The above graph is important to understand in which location which category is doing good. We can see that the Clothing is doing really well and is in the top 10 of different stores. The location Montana is doing really well in that category "
   ]
  },
  {
   "cell_type": "code",
   "execution_count": 22,
   "id": "319f9194",
   "metadata": {
    "execution": {
     "iopub.execute_input": "2025-01-04T22:25:26.616952Z",
     "iopub.status.busy": "2025-01-04T22:25:26.616601Z",
     "iopub.status.idle": "2025-01-04T22:25:26.626849Z",
     "shell.execute_reply": "2025-01-04T22:25:26.625788Z"
    },
    "papermill": {
     "duration": 0.027431,
     "end_time": "2025-01-04T22:25:26.628619",
     "exception": false,
     "start_time": "2025-01-04T22:25:26.601188",
     "status": "completed"
    },
    "tags": []
   },
   "outputs": [
    {
     "data": {
      "text/html": [
       "<div>\n",
       "<style scoped>\n",
       "    .dataframe tbody tr th:only-of-type {\n",
       "        vertical-align: middle;\n",
       "    }\n",
       "\n",
       "    .dataframe tbody tr th {\n",
       "        vertical-align: top;\n",
       "    }\n",
       "\n",
       "    .dataframe thead th {\n",
       "        text-align: right;\n",
       "    }\n",
       "</style>\n",
       "<table border=\"1\" class=\"dataframe\">\n",
       "  <thead>\n",
       "    <tr style=\"text-align: right;\">\n",
       "      <th></th>\n",
       "      <th>Location</th>\n",
       "      <th>Category</th>\n",
       "      <th>Purchase Amount (USD)</th>\n",
       "    </tr>\n",
       "  </thead>\n",
       "  <tbody>\n",
       "    <tr>\n",
       "      <th>138</th>\n",
       "      <td>Ohio</td>\n",
       "      <td>Footwear</td>\n",
       "      <td>1321</td>\n",
       "    </tr>\n",
       "    <tr>\n",
       "      <th>90</th>\n",
       "      <td>Minnesota</td>\n",
       "      <td>Footwear</td>\n",
       "      <td>1073</td>\n",
       "    </tr>\n",
       "    <tr>\n",
       "      <th>74</th>\n",
       "      <td>Maine</td>\n",
       "      <td>Footwear</td>\n",
       "      <td>1013</td>\n",
       "    </tr>\n",
       "    <tr>\n",
       "      <th>86</th>\n",
       "      <td>Michigan</td>\n",
       "      <td>Footwear</td>\n",
       "      <td>1000</td>\n",
       "    </tr>\n",
       "    <tr>\n",
       "      <th>78</th>\n",
       "      <td>Maryland</td>\n",
       "      <td>Footwear</td>\n",
       "      <td>943</td>\n",
       "    </tr>\n",
       "    <tr>\n",
       "      <th>178</th>\n",
       "      <td>Vermont</td>\n",
       "      <td>Footwear</td>\n",
       "      <td>942</td>\n",
       "    </tr>\n",
       "    <tr>\n",
       "      <th>182</th>\n",
       "      <td>Virginia</td>\n",
       "      <td>Footwear</td>\n",
       "      <td>939</td>\n",
       "    </tr>\n",
       "    <tr>\n",
       "      <th>106</th>\n",
       "      <td>Nebraska</td>\n",
       "      <td>Footwear</td>\n",
       "      <td>923</td>\n",
       "    </tr>\n",
       "    <tr>\n",
       "      <th>2</th>\n",
       "      <td>Alabama</td>\n",
       "      <td>Footwear</td>\n",
       "      <td>914</td>\n",
       "    </tr>\n",
       "    <tr>\n",
       "      <th>58</th>\n",
       "      <td>Iowa</td>\n",
       "      <td>Footwear</td>\n",
       "      <td>863</td>\n",
       "    </tr>\n",
       "  </tbody>\n",
       "</table>\n",
       "</div>"
      ],
      "text/plain": [
       "      Location  Category  Purchase Amount (USD)\n",
       "138       Ohio  Footwear                   1321\n",
       "90   Minnesota  Footwear                   1073\n",
       "74       Maine  Footwear                   1013\n",
       "86    Michigan  Footwear                   1000\n",
       "78    Maryland  Footwear                    943\n",
       "178    Vermont  Footwear                    942\n",
       "182   Virginia  Footwear                    939\n",
       "106   Nebraska  Footwear                    923\n",
       "2      Alabama  Footwear                    914\n",
       "58        Iowa  Footwear                    863"
      ]
     },
     "execution_count": 22,
     "metadata": {},
     "output_type": "execute_result"
    }
   ],
   "source": [
    "sales_by_category_and_location[sales_by_category_and_location['Category']=='Footwear'].head(10)"
   ]
  },
  {
   "cell_type": "markdown",
   "id": "9a7666fa",
   "metadata": {
    "papermill": {
     "duration": 0.013342,
     "end_time": "2025-01-04T22:25:26.655847",
     "exception": false,
     "start_time": "2025-01-04T22:25:26.642505",
     "status": "completed"
    },
    "tags": []
   },
   "source": [
    "### For Footwear, store in the Ohio location is doing well and giving the highest sales"
   ]
  },
  {
   "cell_type": "code",
   "execution_count": 23,
   "id": "c133dd3a",
   "metadata": {
    "execution": {
     "iopub.execute_input": "2025-01-04T22:25:26.685329Z",
     "iopub.status.busy": "2025-01-04T22:25:26.684911Z",
     "iopub.status.idle": "2025-01-04T22:25:26.696769Z",
     "shell.execute_reply": "2025-01-04T22:25:26.695507Z"
    },
    "papermill": {
     "duration": 0.028816,
     "end_time": "2025-01-04T22:25:26.698956",
     "exception": false,
     "start_time": "2025-01-04T22:25:26.670140",
     "status": "completed"
    },
    "tags": []
   },
   "outputs": [
    {
     "data": {
      "text/html": [
       "<div>\n",
       "<style scoped>\n",
       "    .dataframe tbody tr th:only-of-type {\n",
       "        vertical-align: middle;\n",
       "    }\n",
       "\n",
       "    .dataframe tbody tr th {\n",
       "        vertical-align: top;\n",
       "    }\n",
       "\n",
       "    .dataframe thead th {\n",
       "        text-align: right;\n",
       "    }\n",
       "</style>\n",
       "<table border=\"1\" class=\"dataframe\">\n",
       "  <thead>\n",
       "    <tr style=\"text-align: right;\">\n",
       "      <th></th>\n",
       "      <th>Location</th>\n",
       "      <th>Category</th>\n",
       "      <th>Purchase Amount (USD)</th>\n",
       "    </tr>\n",
       "  </thead>\n",
       "  <tbody>\n",
       "    <tr>\n",
       "      <th>104</th>\n",
       "      <td>Nebraska</td>\n",
       "      <td>Accessories</td>\n",
       "      <td>2147</td>\n",
       "    </tr>\n",
       "    <tr>\n",
       "      <th>108</th>\n",
       "      <td>Nevada</td>\n",
       "      <td>Accessories</td>\n",
       "      <td>2130</td>\n",
       "    </tr>\n",
       "    <tr>\n",
       "      <th>92</th>\n",
       "      <td>Mississippi</td>\n",
       "      <td>Accessories</td>\n",
       "      <td>1986</td>\n",
       "    </tr>\n",
       "    <tr>\n",
       "      <th>188</th>\n",
       "      <td>West Virginia</td>\n",
       "      <td>Accessories</td>\n",
       "      <td>1907</td>\n",
       "    </tr>\n",
       "    <tr>\n",
       "      <th>64</th>\n",
       "      <td>Kentucky</td>\n",
       "      <td>Accessories</td>\n",
       "      <td>1898</td>\n",
       "    </tr>\n",
       "    <tr>\n",
       "      <th>164</th>\n",
       "      <td>Tennessee</td>\n",
       "      <td>Accessories</td>\n",
       "      <td>1863</td>\n",
       "    </tr>\n",
       "    <tr>\n",
       "      <th>48</th>\n",
       "      <td>Illinois</td>\n",
       "      <td>Accessories</td>\n",
       "      <td>1854</td>\n",
       "    </tr>\n",
       "    <tr>\n",
       "      <th>16</th>\n",
       "      <td>California</td>\n",
       "      <td>Accessories</td>\n",
       "      <td>1845</td>\n",
       "    </tr>\n",
       "    <tr>\n",
       "      <th>100</th>\n",
       "      <td>Montana</td>\n",
       "      <td>Accessories</td>\n",
       "      <td>1797</td>\n",
       "    </tr>\n",
       "    <tr>\n",
       "      <th>44</th>\n",
       "      <td>Idaho</td>\n",
       "      <td>Accessories</td>\n",
       "      <td>1769</td>\n",
       "    </tr>\n",
       "  </tbody>\n",
       "</table>\n",
       "</div>"
      ],
      "text/plain": [
       "          Location     Category  Purchase Amount (USD)\n",
       "104       Nebraska  Accessories                   2147\n",
       "108         Nevada  Accessories                   2130\n",
       "92     Mississippi  Accessories                   1986\n",
       "188  West Virginia  Accessories                   1907\n",
       "64        Kentucky  Accessories                   1898\n",
       "164      Tennessee  Accessories                   1863\n",
       "48        Illinois  Accessories                   1854\n",
       "16      California  Accessories                   1845\n",
       "100        Montana  Accessories                   1797\n",
       "44           Idaho  Accessories                   1769"
      ]
     },
     "execution_count": 23,
     "metadata": {},
     "output_type": "execute_result"
    }
   ],
   "source": [
    "sales_by_category_and_location[sales_by_category_and_location['Category']=='Accessories'].head(10)"
   ]
  },
  {
   "cell_type": "code",
   "execution_count": 24,
   "id": "8cb6a8f4",
   "metadata": {
    "execution": {
     "iopub.execute_input": "2025-01-04T22:25:26.729820Z",
     "iopub.status.busy": "2025-01-04T22:25:26.729478Z",
     "iopub.status.idle": "2025-01-04T22:25:26.748472Z",
     "shell.execute_reply": "2025-01-04T22:25:26.747190Z"
    },
    "papermill": {
     "duration": 0.036262,
     "end_time": "2025-01-04T22:25:26.750340",
     "exception": false,
     "start_time": "2025-01-04T22:25:26.714078",
     "status": "completed"
    },
    "tags": []
   },
   "outputs": [
    {
     "data": {
      "text/html": [
       "<div>\n",
       "<style scoped>\n",
       "    .dataframe tbody tr th:only-of-type {\n",
       "        vertical-align: middle;\n",
       "    }\n",
       "\n",
       "    .dataframe tbody tr th {\n",
       "        vertical-align: top;\n",
       "    }\n",
       "\n",
       "    .dataframe thead th {\n",
       "        text-align: right;\n",
       "    }\n",
       "</style>\n",
       "<table border=\"1\" class=\"dataframe\">\n",
       "  <thead>\n",
       "    <tr style=\"text-align: right;\">\n",
       "      <th></th>\n",
       "      <th>Age</th>\n",
       "      <th>Gender</th>\n",
       "      <th>Item Purchased</th>\n",
       "      <th>Category</th>\n",
       "      <th>Purchase Amount (USD)</th>\n",
       "      <th>Location</th>\n",
       "      <th>Size</th>\n",
       "      <th>Color</th>\n",
       "      <th>Season</th>\n",
       "      <th>Review Rating</th>\n",
       "      <th>Subscription Status</th>\n",
       "      <th>Payment Method</th>\n",
       "      <th>Shipping Type</th>\n",
       "      <th>Discount Applied</th>\n",
       "      <th>Promo Code Used</th>\n",
       "      <th>Previous Purchases</th>\n",
       "      <th>Preferred Payment Method</th>\n",
       "      <th>Frequency of Purchases</th>\n",
       "    </tr>\n",
       "  </thead>\n",
       "  <tbody>\n",
       "    <tr>\n",
       "      <th>0</th>\n",
       "      <td>55</td>\n",
       "      <td>Male</td>\n",
       "      <td>Blouse</td>\n",
       "      <td>Clothing</td>\n",
       "      <td>53</td>\n",
       "      <td>Kentucky</td>\n",
       "      <td>L</td>\n",
       "      <td>Gray</td>\n",
       "      <td>Winter</td>\n",
       "      <td>3.1</td>\n",
       "      <td>Yes</td>\n",
       "      <td>Credit Card</td>\n",
       "      <td>Express</td>\n",
       "      <td>Yes</td>\n",
       "      <td>Yes</td>\n",
       "      <td>14</td>\n",
       "      <td>Venmo</td>\n",
       "      <td>Fortnightly</td>\n",
       "    </tr>\n",
       "    <tr>\n",
       "      <th>1</th>\n",
       "      <td>19</td>\n",
       "      <td>Male</td>\n",
       "      <td>Sweater</td>\n",
       "      <td>Clothing</td>\n",
       "      <td>64</td>\n",
       "      <td>Maine</td>\n",
       "      <td>L</td>\n",
       "      <td>Maroon</td>\n",
       "      <td>Winter</td>\n",
       "      <td>3.1</td>\n",
       "      <td>Yes</td>\n",
       "      <td>Bank Transfer</td>\n",
       "      <td>Express</td>\n",
       "      <td>Yes</td>\n",
       "      <td>Yes</td>\n",
       "      <td>2</td>\n",
       "      <td>Cash</td>\n",
       "      <td>Fortnightly</td>\n",
       "    </tr>\n",
       "    <tr>\n",
       "      <th>2</th>\n",
       "      <td>50</td>\n",
       "      <td>Male</td>\n",
       "      <td>Jeans</td>\n",
       "      <td>Clothing</td>\n",
       "      <td>73</td>\n",
       "      <td>Massachusetts</td>\n",
       "      <td>S</td>\n",
       "      <td>Maroon</td>\n",
       "      <td>Spring</td>\n",
       "      <td>3.1</td>\n",
       "      <td>Yes</td>\n",
       "      <td>Cash</td>\n",
       "      <td>Free Shipping</td>\n",
       "      <td>Yes</td>\n",
       "      <td>Yes</td>\n",
       "      <td>23</td>\n",
       "      <td>Credit Card</td>\n",
       "      <td>Weekly</td>\n",
       "    </tr>\n",
       "    <tr>\n",
       "      <th>3</th>\n",
       "      <td>21</td>\n",
       "      <td>Male</td>\n",
       "      <td>Sandals</td>\n",
       "      <td>Footwear</td>\n",
       "      <td>90</td>\n",
       "      <td>Rhode Island</td>\n",
       "      <td>M</td>\n",
       "      <td>Maroon</td>\n",
       "      <td>Spring</td>\n",
       "      <td>3.5</td>\n",
       "      <td>Yes</td>\n",
       "      <td>PayPal</td>\n",
       "      <td>Next Day Air</td>\n",
       "      <td>Yes</td>\n",
       "      <td>Yes</td>\n",
       "      <td>49</td>\n",
       "      <td>PayPal</td>\n",
       "      <td>Weekly</td>\n",
       "    </tr>\n",
       "    <tr>\n",
       "      <th>4</th>\n",
       "      <td>45</td>\n",
       "      <td>Male</td>\n",
       "      <td>Blouse</td>\n",
       "      <td>Clothing</td>\n",
       "      <td>49</td>\n",
       "      <td>Oregon</td>\n",
       "      <td>M</td>\n",
       "      <td>Turquoise</td>\n",
       "      <td>Spring</td>\n",
       "      <td>2.7</td>\n",
       "      <td>Yes</td>\n",
       "      <td>Cash</td>\n",
       "      <td>Free Shipping</td>\n",
       "      <td>Yes</td>\n",
       "      <td>Yes</td>\n",
       "      <td>31</td>\n",
       "      <td>PayPal</td>\n",
       "      <td>Annually</td>\n",
       "    </tr>\n",
       "  </tbody>\n",
       "</table>\n",
       "</div>"
      ],
      "text/plain": [
       "   Age Gender Item Purchased  Category  Purchase Amount (USD)       Location  \\\n",
       "0   55   Male         Blouse  Clothing                     53       Kentucky   \n",
       "1   19   Male        Sweater  Clothing                     64          Maine   \n",
       "2   50   Male          Jeans  Clothing                     73  Massachusetts   \n",
       "3   21   Male        Sandals  Footwear                     90   Rhode Island   \n",
       "4   45   Male         Blouse  Clothing                     49         Oregon   \n",
       "\n",
       "  Size      Color  Season  Review Rating Subscription Status Payment Method  \\\n",
       "0    L       Gray  Winter            3.1                 Yes    Credit Card   \n",
       "1    L     Maroon  Winter            3.1                 Yes  Bank Transfer   \n",
       "2    S     Maroon  Spring            3.1                 Yes           Cash   \n",
       "3    M     Maroon  Spring            3.5                 Yes         PayPal   \n",
       "4    M  Turquoise  Spring            2.7                 Yes           Cash   \n",
       "\n",
       "   Shipping Type Discount Applied Promo Code Used  Previous Purchases  \\\n",
       "0        Express              Yes             Yes                  14   \n",
       "1        Express              Yes             Yes                   2   \n",
       "2  Free Shipping              Yes             Yes                  23   \n",
       "3   Next Day Air              Yes             Yes                  49   \n",
       "4  Free Shipping              Yes             Yes                  31   \n",
       "\n",
       "  Preferred Payment Method Frequency of Purchases  \n",
       "0                    Venmo            Fortnightly  \n",
       "1                     Cash            Fortnightly  \n",
       "2              Credit Card                 Weekly  \n",
       "3                   PayPal                 Weekly  \n",
       "4                   PayPal               Annually  "
      ]
     },
     "execution_count": 24,
     "metadata": {},
     "output_type": "execute_result"
    }
   ],
   "source": [
    "df.head()"
   ]
  },
  {
   "cell_type": "code",
   "execution_count": 25,
   "id": "7c02205f",
   "metadata": {
    "execution": {
     "iopub.execute_input": "2025-01-04T22:25:26.780892Z",
     "iopub.status.busy": "2025-01-04T22:25:26.780542Z",
     "iopub.status.idle": "2025-01-04T22:25:26.785851Z",
     "shell.execute_reply": "2025-01-04T22:25:26.784611Z"
    },
    "papermill": {
     "duration": 0.02254,
     "end_time": "2025-01-04T22:25:26.787891",
     "exception": false,
     "start_time": "2025-01-04T22:25:26.765351",
     "status": "completed"
    },
    "tags": []
   },
   "outputs": [],
   "source": [
    "df_age=df.copy()"
   ]
  },
  {
   "cell_type": "code",
   "execution_count": 26,
   "id": "fffa8a42",
   "metadata": {
    "execution": {
     "iopub.execute_input": "2025-01-04T22:25:26.817925Z",
     "iopub.status.busy": "2025-01-04T22:25:26.817577Z",
     "iopub.status.idle": "2025-01-04T22:25:26.824400Z",
     "shell.execute_reply": "2025-01-04T22:25:26.823042Z"
    },
    "papermill": {
     "duration": 0.023953,
     "end_time": "2025-01-04T22:25:26.826144",
     "exception": false,
     "start_time": "2025-01-04T22:25:26.802191",
     "status": "completed"
    },
    "tags": []
   },
   "outputs": [
    {
     "name": "stdout",
     "output_type": "stream",
     "text": [
      "Minimum age in the dataset: 18\n",
      "Maximum age in the dataset: 70\n"
     ]
    }
   ],
   "source": [
    "print(\"Minimum age in the dataset:\", df['Age'].min())\n",
    "print(\"Maximum age in the dataset:\", df['Age'].max())"
   ]
  },
  {
   "cell_type": "code",
   "execution_count": 27,
   "id": "2acd3568",
   "metadata": {
    "execution": {
     "iopub.execute_input": "2025-01-04T22:25:26.856064Z",
     "iopub.status.busy": "2025-01-04T22:25:26.855720Z",
     "iopub.status.idle": "2025-01-04T22:25:26.862493Z",
     "shell.execute_reply": "2025-01-04T22:25:26.861435Z"
    },
    "papermill": {
     "duration": 0.02397,
     "end_time": "2025-01-04T22:25:26.864531",
     "exception": false,
     "start_time": "2025-01-04T22:25:26.840561",
     "status": "completed"
    },
    "tags": []
   },
   "outputs": [],
   "source": [
    "df_age['Age_Bracket'] = df_age['Age'].apply(\n",
    "    lambda x: \"18-30\" if x < 30 else \"30-45\" if 30 <= x < 45 else \"45-70\"\n",
    ")"
   ]
  },
  {
   "cell_type": "code",
   "execution_count": 28,
   "id": "22a68f25",
   "metadata": {
    "execution": {
     "iopub.execute_input": "2025-01-04T22:25:26.894677Z",
     "iopub.status.busy": "2025-01-04T22:25:26.894306Z",
     "iopub.status.idle": "2025-01-04T22:25:27.099473Z",
     "shell.execute_reply": "2025-01-04T22:25:27.098257Z"
    },
    "papermill": {
     "duration": 0.22273,
     "end_time": "2025-01-04T22:25:27.101571",
     "exception": false,
     "start_time": "2025-01-04T22:25:26.878841",
     "status": "completed"
    },
    "tags": []
   },
   "outputs": [
    {
     "data": {
      "image/png": "[encoded data removed]",
      "text/plain": [
       "<Figure size 640x480 with 1 Axes>"
      ]
     },
     "metadata": {},
     "output_type": "display_data"
    }
   ],
   "source": [
    "ax=sns.countplot(x='Age_Bracket', data=df_age)\n",
    "for bars in ax.containers:\n",
    "    ax.bar_label(bars)\n",
    "plt.show()"
   ]
  },
  {
   "cell_type": "code",
   "execution_count": 29,
   "id": "5b26fbfc",
   "metadata": {
    "execution": {
     "iopub.execute_input": "2025-01-04T22:25:27.133801Z",
     "iopub.status.busy": "2025-01-04T22:25:27.133377Z",
     "iopub.status.idle": "2025-01-04T22:25:27.241460Z",
     "shell.execute_reply": "2025-01-04T22:25:27.240033Z"
    },
    "papermill": {
     "duration": 0.127214,
     "end_time": "2025-01-04T22:25:27.244404",
     "exception": false,
     "start_time": "2025-01-04T22:25:27.117190",
     "status": "completed"
    },
    "tags": []
   },
   "outputs": [
    {
     "data": {
      "image/png": "[encoded data removed]",
      "text/plain": [
       "<Figure size 640x480 with 1 Axes>"
      ]
     },
     "metadata": {},
     "output_type": "display_data"
    }
   ],
   "source": [
    "labels=['45-70', '30-45', '18-30']\n",
    "plt.pie(df_age['Age_Bracket'].value_counts(), autopct='%1.1f%%', labels=labels)\n",
    "plt.show()"
   ]
  },
  {
   "cell_type": "markdown",
   "id": "c4601f76",
   "metadata": {
    "papermill": {
     "duration": 0.027388,
     "end_time": "2025-01-04T22:25:27.300631",
     "exception": false,
     "start_time": "2025-01-04T22:25:27.273243",
     "status": "completed"
    },
    "tags": []
   },
   "source": [
    "### Almost 50% of the customers are in the age bracket of 45-70. To bring in more customers, we have to understand the other two age categories as well. By checking the inventory to see whether we have sufficient stuff available at our stores. Competition analysis to understand why customers aged < 45 are going to the competitors. Using effective marketing strategies to educate the customers about the width and depth of our products. Loyalty and Master cards can help retain and bring new customers. Giving good discounts on promotional days like Black Friday, Cyber Monday, Boxing Day etc."
   ]
  },
  {
   "cell_type": "code",
   "execution_count": 30,
   "id": "ced7fa84",
   "metadata": {
    "execution": {
     "iopub.execute_input": "2025-01-04T22:25:27.343378Z",
     "iopub.status.busy": "2025-01-04T22:25:27.342893Z",
     "iopub.status.idle": "2025-01-04T22:25:27.350604Z",
     "shell.execute_reply": "2025-01-04T22:25:27.349532Z"
    },
    "papermill": {
     "duration": 0.025938,
     "end_time": "2025-01-04T22:25:27.352467",
     "exception": false,
     "start_time": "2025-01-04T22:25:27.326529",
     "status": "completed"
    },
    "tags": []
   },
   "outputs": [
    {
     "name": "stdout",
     "output_type": "stream",
     "text": [
      "Maximum Rating in the dataset: 5.0\n",
      "Minimum Rating in the dataset: 2.5\n"
     ]
    }
   ],
   "source": [
    "print(\"Maximum Rating in the dataset:\", df['Review Rating'].max())\n",
    "print(\"Minimum Rating in the dataset:\", df['Review Rating'].min())"
   ]
  },
  {
   "cell_type": "code",
   "execution_count": 31,
   "id": "81e8689d",
   "metadata": {
    "execution": {
     "iopub.execute_input": "2025-01-04T22:25:27.384512Z",
     "iopub.status.busy": "2025-01-04T22:25:27.384066Z",
     "iopub.status.idle": "2025-01-04T22:25:27.401390Z",
     "shell.execute_reply": "2025-01-04T22:25:27.400034Z"
    },
    "papermill": {
     "duration": 0.035482,
     "end_time": "2025-01-04T22:25:27.403276",
     "exception": false,
     "start_time": "2025-01-04T22:25:27.367794",
     "status": "completed"
    },
    "tags": []
   },
   "outputs": [
    {
     "data": {
      "text/html": [
       "<div>\n",
       "<style scoped>\n",
       "    .dataframe tbody tr th:only-of-type {\n",
       "        vertical-align: middle;\n",
       "    }\n",
       "\n",
       "    .dataframe tbody tr th {\n",
       "        vertical-align: top;\n",
       "    }\n",
       "\n",
       "    .dataframe thead th {\n",
       "        text-align: right;\n",
       "    }\n",
       "</style>\n",
       "<table border=\"1\" class=\"dataframe\">\n",
       "  <thead>\n",
       "    <tr style=\"text-align: right;\">\n",
       "      <th></th>\n",
       "      <th>Category</th>\n",
       "      <th>Review Rating</th>\n",
       "    </tr>\n",
       "  </thead>\n",
       "  <tbody>\n",
       "    <tr>\n",
       "      <th>2</th>\n",
       "      <td>Footwear</td>\n",
       "      <td>3.790651</td>\n",
       "    </tr>\n",
       "    <tr>\n",
       "      <th>0</th>\n",
       "      <td>Accessories</td>\n",
       "      <td>3.768629</td>\n",
       "    </tr>\n",
       "    <tr>\n",
       "      <th>3</th>\n",
       "      <td>Outerwear</td>\n",
       "      <td>3.746914</td>\n",
       "    </tr>\n",
       "    <tr>\n",
       "      <th>1</th>\n",
       "      <td>Clothing</td>\n",
       "      <td>3.723143</td>\n",
       "    </tr>\n",
       "  </tbody>\n",
       "</table>\n",
       "</div>"
      ],
      "text/plain": [
       "      Category  Review Rating\n",
       "2     Footwear       3.790651\n",
       "0  Accessories       3.768629\n",
       "3    Outerwear       3.746914\n",
       "1     Clothing       3.723143"
      ]
     },
     "execution_count": 31,
     "metadata": {},
     "output_type": "execute_result"
    }
   ],
   "source": [
    "category_avg_rating=df.groupby(['Category'], as_index=False).agg({'Review Rating': 'mean'}).sort_values(by='Review Rating', ascending=False)\n",
    "category_avg_rating"
   ]
  },
  {
   "cell_type": "markdown",
   "id": "edaee658",
   "metadata": {
    "execution": {
     "iopub.execute_input": "2025-01-04T21:12:40.616961Z",
     "iopub.status.busy": "2025-01-04T21:12:40.616568Z",
     "iopub.status.idle": "2025-01-04T21:12:40.634889Z",
     "shell.execute_reply": "2025-01-04T21:12:40.633561Z",
     "shell.execute_reply.started": "2025-01-04T21:12:40.616928Z"
    },
    "papermill": {
     "duration": 0.015664,
     "end_time": "2025-01-04T22:25:27.434726",
     "exception": false,
     "start_time": "2025-01-04T22:25:27.419062",
     "status": "completed"
    },
    "tags": []
   },
   "source": [
    "#### The above table is important to see which category has the highest average rating and which has the lowest. All the categories have almost the same rating, which is a good sign. However, we have to increase the sales of categories like Footwear, Accessories, and Outerwear because Clothing has the highest amount of customers"
   ]
  },
  {
   "cell_type": "code",
   "execution_count": 32,
   "id": "3fecc0f3",
   "metadata": {
    "execution": {
     "iopub.execute_input": "2025-01-04T22:25:27.467397Z",
     "iopub.status.busy": "2025-01-04T22:25:27.466869Z",
     "iopub.status.idle": "2025-01-04T22:25:27.480311Z",
     "shell.execute_reply": "2025-01-04T22:25:27.479264Z"
    },
    "papermill": {
     "duration": 0.03165,
     "end_time": "2025-01-04T22:25:27.482035",
     "exception": false,
     "start_time": "2025-01-04T22:25:27.450385",
     "status": "completed"
    },
    "tags": []
   },
   "outputs": [
    {
     "data": {
      "text/html": [
       "<div>\n",
       "<style scoped>\n",
       "    .dataframe tbody tr th:only-of-type {\n",
       "        vertical-align: middle;\n",
       "    }\n",
       "\n",
       "    .dataframe tbody tr th {\n",
       "        vertical-align: top;\n",
       "    }\n",
       "\n",
       "    .dataframe thead th {\n",
       "        text-align: right;\n",
       "    }\n",
       "</style>\n",
       "<table border=\"1\" class=\"dataframe\">\n",
       "  <thead>\n",
       "    <tr style=\"text-align: right;\">\n",
       "      <th></th>\n",
       "      <th>Category</th>\n",
       "      <th>Purchase Amount (USD)</th>\n",
       "    </tr>\n",
       "  </thead>\n",
       "  <tbody>\n",
       "    <tr>\n",
       "      <th>1</th>\n",
       "      <td>Clothing</td>\n",
       "      <td>104264</td>\n",
       "    </tr>\n",
       "    <tr>\n",
       "      <th>0</th>\n",
       "      <td>Accessories</td>\n",
       "      <td>74200</td>\n",
       "    </tr>\n",
       "    <tr>\n",
       "      <th>2</th>\n",
       "      <td>Footwear</td>\n",
       "      <td>36093</td>\n",
       "    </tr>\n",
       "    <tr>\n",
       "      <th>3</th>\n",
       "      <td>Outerwear</td>\n",
       "      <td>18524</td>\n",
       "    </tr>\n",
       "  </tbody>\n",
       "</table>\n",
       "</div>"
      ],
      "text/plain": [
       "      Category  Purchase Amount (USD)\n",
       "1     Clothing                 104264\n",
       "0  Accessories                  74200\n",
       "2     Footwear                  36093\n",
       "3    Outerwear                  18524"
      ]
     },
     "execution_count": 32,
     "metadata": {},
     "output_type": "execute_result"
    }
   ],
   "source": [
    "total_sales_by_category=df.groupby(['Category'], as_index=False).agg({'Purchase Amount (USD)': 'sum'}).sort_values(by='Purchase Amount (USD)', ascending=False)\n",
    "total_sales_by_category"
   ]
  },
  {
   "cell_type": "code",
   "execution_count": 33,
   "id": "651d4a13",
   "metadata": {
    "execution": {
     "iopub.execute_input": "2025-01-04T22:25:27.514293Z",
     "iopub.status.busy": "2025-01-04T22:25:27.513843Z",
     "iopub.status.idle": "2025-01-04T22:25:27.634722Z",
     "shell.execute_reply": "2025-01-04T22:25:27.633377Z"
    },
    "papermill": {
     "duration": 0.13961,
     "end_time": "2025-01-04T22:25:27.637189",
     "exception": false,
     "start_time": "2025-01-04T22:25:27.497579",
     "status": "completed"
    },
    "tags": []
   },
   "outputs": [
    {
     "data": {
      "image/png": "[encoded data removed]",
      "text/plain": [
       "<Figure size 640x480 with 1 Axes>"
      ]
     },
     "metadata": {},
     "output_type": "display_data"
    }
   ],
   "source": [
    "labels=total_sales_by_category['Category']\n",
    "values=total_sales_by_category['Purchase Amount (USD)']\n",
    "plt.pie(values, autopct='%1.1f%%', labels=labels)\n",
    "plt.show()"
   ]
  },
  {
   "cell_type": "code",
   "execution_count": 34,
   "id": "d52cae3a",
   "metadata": {
    "execution": {
     "iopub.execute_input": "2025-01-04T22:25:27.698460Z",
     "iopub.status.busy": "2025-01-04T22:25:27.697875Z",
     "iopub.status.idle": "2025-01-04T22:25:27.715601Z",
     "shell.execute_reply": "2025-01-04T22:25:27.714503Z"
    },
    "papermill": {
     "duration": 0.050679,
     "end_time": "2025-01-04T22:25:27.717650",
     "exception": false,
     "start_time": "2025-01-04T22:25:27.666971",
     "status": "completed"
    },
    "tags": []
   },
   "outputs": [
    {
     "data": {
      "text/html": [
       "<div>\n",
       "<style scoped>\n",
       "    .dataframe tbody tr th:only-of-type {\n",
       "        vertical-align: middle;\n",
       "    }\n",
       "\n",
       "    .dataframe tbody tr th {\n",
       "        vertical-align: top;\n",
       "    }\n",
       "\n",
       "    .dataframe thead th {\n",
       "        text-align: right;\n",
       "    }\n",
       "</style>\n",
       "<table border=\"1\" class=\"dataframe\">\n",
       "  <thead>\n",
       "    <tr style=\"text-align: right;\">\n",
       "      <th></th>\n",
       "      <th>Item Purchased</th>\n",
       "      <th>Category</th>\n",
       "      <th>Purchase Amount (USD)</th>\n",
       "    </tr>\n",
       "  </thead>\n",
       "  <tbody>\n",
       "    <tr>\n",
       "      <th>2</th>\n",
       "      <td>Blouse</td>\n",
       "      <td>Clothing</td>\n",
       "      <td>10410</td>\n",
       "    </tr>\n",
       "    <tr>\n",
       "      <th>16</th>\n",
       "      <td>Shirt</td>\n",
       "      <td>Clothing</td>\n",
       "      <td>10332</td>\n",
       "    </tr>\n",
       "    <tr>\n",
       "      <th>5</th>\n",
       "      <td>Dress</td>\n",
       "      <td>Clothing</td>\n",
       "      <td>10320</td>\n",
       "    </tr>\n",
       "    <tr>\n",
       "      <th>13</th>\n",
       "      <td>Pants</td>\n",
       "      <td>Clothing</td>\n",
       "      <td>10090</td>\n",
       "    </tr>\n",
       "    <tr>\n",
       "      <th>12</th>\n",
       "      <td>Jewelry</td>\n",
       "      <td>Accessories</td>\n",
       "      <td>10010</td>\n",
       "    </tr>\n",
       "    <tr>\n",
       "      <th>22</th>\n",
       "      <td>Sunglasses</td>\n",
       "      <td>Accessories</td>\n",
       "      <td>9649</td>\n",
       "    </tr>\n",
       "    <tr>\n",
       "      <th>1</th>\n",
       "      <td>Belt</td>\n",
       "      <td>Accessories</td>\n",
       "      <td>9635</td>\n",
       "    </tr>\n",
       "    <tr>\n",
       "      <th>15</th>\n",
       "      <td>Scarf</td>\n",
       "      <td>Accessories</td>\n",
       "      <td>9561</td>\n",
       "    </tr>\n",
       "    <tr>\n",
       "      <th>23</th>\n",
       "      <td>Sweater</td>\n",
       "      <td>Clothing</td>\n",
       "      <td>9462</td>\n",
       "    </tr>\n",
       "    <tr>\n",
       "      <th>18</th>\n",
       "      <td>Shorts</td>\n",
       "      <td>Clothing</td>\n",
       "      <td>9433</td>\n",
       "    </tr>\n",
       "  </tbody>\n",
       "</table>\n",
       "</div>"
      ],
      "text/plain": [
       "   Item Purchased     Category  Purchase Amount (USD)\n",
       "2          Blouse     Clothing                  10410\n",
       "16          Shirt     Clothing                  10332\n",
       "5           Dress     Clothing                  10320\n",
       "13          Pants     Clothing                  10090\n",
       "12        Jewelry  Accessories                  10010\n",
       "22     Sunglasses  Accessories                   9649\n",
       "1            Belt  Accessories                   9635\n",
       "15          Scarf  Accessories                   9561\n",
       "23        Sweater     Clothing                   9462\n",
       "18         Shorts     Clothing                   9433"
      ]
     },
     "execution_count": 34,
     "metadata": {},
     "output_type": "execute_result"
    }
   ],
   "source": [
    "total_sales_by_item_purchased=df.groupby(['Item Purchased', 'Category'], as_index=False).agg({'Purchase Amount (USD)': 'sum'}).sort_values(by='Purchase Amount (USD)', ascending=False)\n",
    "total_sales_by_item_purchased.head(10)"
   ]
  },
  {
   "cell_type": "code",
   "execution_count": 35,
   "id": "2b8d55c6",
   "metadata": {
    "execution": {
     "iopub.execute_input": "2025-01-04T22:25:27.752865Z",
     "iopub.status.busy": "2025-01-04T22:25:27.752499Z",
     "iopub.status.idle": "2025-01-04T22:25:27.762009Z",
     "shell.execute_reply": "2025-01-04T22:25:27.760927Z"
    },
    "papermill": {
     "duration": 0.028778,
     "end_time": "2025-01-04T22:25:27.763865",
     "exception": false,
     "start_time": "2025-01-04T22:25:27.735087",
     "status": "completed"
    },
    "tags": []
   },
   "outputs": [
    {
     "data": {
      "text/html": [
       "<div>\n",
       "<style scoped>\n",
       "    .dataframe tbody tr th:only-of-type {\n",
       "        vertical-align: middle;\n",
       "    }\n",
       "\n",
       "    .dataframe tbody tr th {\n",
       "        vertical-align: top;\n",
       "    }\n",
       "\n",
       "    .dataframe thead th {\n",
       "        text-align: right;\n",
       "    }\n",
       "</style>\n",
       "<table border=\"1\" class=\"dataframe\">\n",
       "  <thead>\n",
       "    <tr style=\"text-align: right;\">\n",
       "      <th></th>\n",
       "      <th>Item Purchased</th>\n",
       "      <th>Category</th>\n",
       "      <th>Purchase Amount (USD)</th>\n",
       "    </tr>\n",
       "  </thead>\n",
       "  <tbody>\n",
       "    <tr>\n",
       "      <th>24</th>\n",
       "      <td>T-shirt</td>\n",
       "      <td>Clothing</td>\n",
       "      <td>9248</td>\n",
       "    </tr>\n",
       "    <tr>\n",
       "      <th>17</th>\n",
       "      <td>Shoes</td>\n",
       "      <td>Footwear</td>\n",
       "      <td>9240</td>\n",
       "    </tr>\n",
       "    <tr>\n",
       "      <th>14</th>\n",
       "      <td>Sandals</td>\n",
       "      <td>Footwear</td>\n",
       "      <td>9200</td>\n",
       "    </tr>\n",
       "    <tr>\n",
       "      <th>3</th>\n",
       "      <td>Boots</td>\n",
       "      <td>Footwear</td>\n",
       "      <td>9018</td>\n",
       "    </tr>\n",
       "    <tr>\n",
       "      <th>7</th>\n",
       "      <td>Handbag</td>\n",
       "      <td>Accessories</td>\n",
       "      <td>8857</td>\n",
       "    </tr>\n",
       "    <tr>\n",
       "      <th>9</th>\n",
       "      <td>Hoodie</td>\n",
       "      <td>Clothing</td>\n",
       "      <td>8767</td>\n",
       "    </tr>\n",
       "    <tr>\n",
       "      <th>0</th>\n",
       "      <td>Backpack</td>\n",
       "      <td>Accessories</td>\n",
       "      <td>8636</td>\n",
       "    </tr>\n",
       "    <tr>\n",
       "      <th>20</th>\n",
       "      <td>Sneakers</td>\n",
       "      <td>Footwear</td>\n",
       "      <td>8635</td>\n",
       "    </tr>\n",
       "    <tr>\n",
       "      <th>6</th>\n",
       "      <td>Gloves</td>\n",
       "      <td>Accessories</td>\n",
       "      <td>8477</td>\n",
       "    </tr>\n",
       "    <tr>\n",
       "      <th>11</th>\n",
       "      <td>Jeans</td>\n",
       "      <td>Clothing</td>\n",
       "      <td>7548</td>\n",
       "    </tr>\n",
       "  </tbody>\n",
       "</table>\n",
       "</div>"
      ],
      "text/plain": [
       "   Item Purchased     Category  Purchase Amount (USD)\n",
       "24        T-shirt     Clothing                   9248\n",
       "17          Shoes     Footwear                   9240\n",
       "14        Sandals     Footwear                   9200\n",
       "3           Boots     Footwear                   9018\n",
       "7         Handbag  Accessories                   8857\n",
       "9          Hoodie     Clothing                   8767\n",
       "0        Backpack  Accessories                   8636\n",
       "20       Sneakers     Footwear                   8635\n",
       "6          Gloves  Accessories                   8477\n",
       "11          Jeans     Clothing                   7548"
      ]
     },
     "execution_count": 35,
     "metadata": {},
     "output_type": "execute_result"
    }
   ],
   "source": [
    "total_sales_by_item_purchased.tail(10)"
   ]
  },
  {
   "cell_type": "markdown",
   "id": "96810aff",
   "metadata": {
    "papermill": {
     "duration": 0.015985,
     "end_time": "2025-01-04T22:25:27.796363",
     "exception": false,
     "start_time": "2025-01-04T22:25:27.780378",
     "status": "completed"
    },
    "tags": []
   },
   "source": [
    "### The above table is important to see how the sub-categories of our products are doing. Even though clothing has the highest number of sales, but we see that 'Hoodie' and 'Jeans' contribute the lowest. We also saw that most of our customers lie within the age bracket of 45-70, i.e, these customers are least interested in the hoodie and jeans and most interested in pants, sweaters, shirts, dress etc."
   ]
  },
  {
   "cell_type": "code",
   "execution_count": 36,
   "id": "0cc1fa7d",
   "metadata": {
    "execution": {
     "iopub.execute_input": "2025-01-04T22:25:27.830213Z",
     "iopub.status.busy": "2025-01-04T22:25:27.829823Z",
     "iopub.status.idle": "2025-01-04T22:25:27.842572Z",
     "shell.execute_reply": "2025-01-04T22:25:27.841340Z"
    },
    "papermill": {
     "duration": 0.032167,
     "end_time": "2025-01-04T22:25:27.844739",
     "exception": false,
     "start_time": "2025-01-04T22:25:27.812572",
     "status": "completed"
    },
    "tags": []
   },
   "outputs": [
    {
     "data": {
      "text/html": [
       "<div>\n",
       "<style scoped>\n",
       "    .dataframe tbody tr th:only-of-type {\n",
       "        vertical-align: middle;\n",
       "    }\n",
       "\n",
       "    .dataframe tbody tr th {\n",
       "        vertical-align: top;\n",
       "    }\n",
       "\n",
       "    .dataframe thead th {\n",
       "        text-align: right;\n",
       "    }\n",
       "</style>\n",
       "<table border=\"1\" class=\"dataframe\">\n",
       "  <thead>\n",
       "    <tr style=\"text-align: right;\">\n",
       "      <th></th>\n",
       "      <th>Season</th>\n",
       "      <th>Purchase Amount (USD)</th>\n",
       "    </tr>\n",
       "  </thead>\n",
       "  <tbody>\n",
       "    <tr>\n",
       "      <th>0</th>\n",
       "      <td>Fall</td>\n",
       "      <td>60018</td>\n",
       "    </tr>\n",
       "    <tr>\n",
       "      <th>1</th>\n",
       "      <td>Spring</td>\n",
       "      <td>58679</td>\n",
       "    </tr>\n",
       "    <tr>\n",
       "      <th>3</th>\n",
       "      <td>Winter</td>\n",
       "      <td>58607</td>\n",
       "    </tr>\n",
       "    <tr>\n",
       "      <th>2</th>\n",
       "      <td>Summer</td>\n",
       "      <td>55777</td>\n",
       "    </tr>\n",
       "  </tbody>\n",
       "</table>\n",
       "</div>"
      ],
      "text/plain": [
       "   Season  Purchase Amount (USD)\n",
       "0    Fall                  60018\n",
       "1  Spring                  58679\n",
       "3  Winter                  58607\n",
       "2  Summer                  55777"
      ]
     },
     "execution_count": 36,
     "metadata": {},
     "output_type": "execute_result"
    }
   ],
   "source": [
    "season_total_sales=df.groupby(['Season'], as_index=False).agg({'Purchase Amount (USD)': 'sum'}).sort_values(by='Purchase Amount (USD)', ascending=False)\n",
    "season_total_sales"
   ]
  },
  {
   "cell_type": "markdown",
   "id": "cb25287b",
   "metadata": {
    "papermill": {
     "duration": 0.016084,
     "end_time": "2025-01-04T22:25:27.877450",
     "exception": false,
     "start_time": "2025-01-04T22:25:27.861366",
     "status": "completed"
    },
    "tags": []
   },
   "source": [
    "### The highest revenue was generated in the fall season"
   ]
  },
  {
   "cell_type": "code",
   "execution_count": 37,
   "id": "a497c3c7",
   "metadata": {
    "execution": {
     "iopub.execute_input": "2025-01-04T22:25:27.912612Z",
     "iopub.status.busy": "2025-01-04T22:25:27.912078Z",
     "iopub.status.idle": "2025-01-04T22:25:27.928256Z",
     "shell.execute_reply": "2025-01-04T22:25:27.926797Z"
    },
    "papermill": {
     "duration": 0.035557,
     "end_time": "2025-01-04T22:25:27.930193",
     "exception": false,
     "start_time": "2025-01-04T22:25:27.894636",
     "status": "completed"
    },
    "tags": []
   },
   "outputs": [
    {
     "data": {
      "text/html": [
       "<div>\n",
       "<style scoped>\n",
       "    .dataframe tbody tr th:only-of-type {\n",
       "        vertical-align: middle;\n",
       "    }\n",
       "\n",
       "    .dataframe tbody tr th {\n",
       "        vertical-align: top;\n",
       "    }\n",
       "\n",
       "    .dataframe thead th {\n",
       "        text-align: right;\n",
       "    }\n",
       "</style>\n",
       "<table border=\"1\" class=\"dataframe\">\n",
       "  <thead>\n",
       "    <tr style=\"text-align: right;\">\n",
       "      <th></th>\n",
       "      <th>Season</th>\n",
       "      <th>Category</th>\n",
       "      <th>Purchase Amount (USD)</th>\n",
       "    </tr>\n",
       "  </thead>\n",
       "  <tbody>\n",
       "    <tr>\n",
       "      <th>5</th>\n",
       "      <td>Spring</td>\n",
       "      <td>Clothing</td>\n",
       "      <td>27692</td>\n",
       "    </tr>\n",
       "    <tr>\n",
       "      <th>13</th>\n",
       "      <td>Winter</td>\n",
       "      <td>Clothing</td>\n",
       "      <td>27274</td>\n",
       "    </tr>\n",
       "    <tr>\n",
       "      <th>1</th>\n",
       "      <td>Fall</td>\n",
       "      <td>Clothing</td>\n",
       "      <td>26220</td>\n",
       "    </tr>\n",
       "    <tr>\n",
       "      <th>9</th>\n",
       "      <td>Summer</td>\n",
       "      <td>Clothing</td>\n",
       "      <td>23078</td>\n",
       "    </tr>\n",
       "    <tr>\n",
       "      <th>0</th>\n",
       "      <td>Fall</td>\n",
       "      <td>Accessories</td>\n",
       "      <td>19874</td>\n",
       "    </tr>\n",
       "    <tr>\n",
       "      <th>8</th>\n",
       "      <td>Summer</td>\n",
       "      <td>Accessories</td>\n",
       "      <td>19028</td>\n",
       "    </tr>\n",
       "    <tr>\n",
       "      <th>12</th>\n",
       "      <td>Winter</td>\n",
       "      <td>Accessories</td>\n",
       "      <td>18291</td>\n",
       "    </tr>\n",
       "    <tr>\n",
       "      <th>4</th>\n",
       "      <td>Spring</td>\n",
       "      <td>Accessories</td>\n",
       "      <td>17007</td>\n",
       "    </tr>\n",
       "    <tr>\n",
       "      <th>6</th>\n",
       "      <td>Spring</td>\n",
       "      <td>Footwear</td>\n",
       "      <td>9555</td>\n",
       "    </tr>\n",
       "    <tr>\n",
       "      <th>10</th>\n",
       "      <td>Summer</td>\n",
       "      <td>Footwear</td>\n",
       "      <td>9393</td>\n",
       "    </tr>\n",
       "    <tr>\n",
       "      <th>2</th>\n",
       "      <td>Fall</td>\n",
       "      <td>Footwear</td>\n",
       "      <td>8665</td>\n",
       "    </tr>\n",
       "    <tr>\n",
       "      <th>14</th>\n",
       "      <td>Winter</td>\n",
       "      <td>Footwear</td>\n",
       "      <td>8480</td>\n",
       "    </tr>\n",
       "    <tr>\n",
       "      <th>3</th>\n",
       "      <td>Fall</td>\n",
       "      <td>Outerwear</td>\n",
       "      <td>5259</td>\n",
       "    </tr>\n",
       "    <tr>\n",
       "      <th>15</th>\n",
       "      <td>Winter</td>\n",
       "      <td>Outerwear</td>\n",
       "      <td>4562</td>\n",
       "    </tr>\n",
       "    <tr>\n",
       "      <th>7</th>\n",
       "      <td>Spring</td>\n",
       "      <td>Outerwear</td>\n",
       "      <td>4425</td>\n",
       "    </tr>\n",
       "    <tr>\n",
       "      <th>11</th>\n",
       "      <td>Summer</td>\n",
       "      <td>Outerwear</td>\n",
       "      <td>4278</td>\n",
       "    </tr>\n",
       "  </tbody>\n",
       "</table>\n",
       "</div>"
      ],
      "text/plain": [
       "    Season     Category  Purchase Amount (USD)\n",
       "5   Spring     Clothing                  27692\n",
       "13  Winter     Clothing                  27274\n",
       "1     Fall     Clothing                  26220\n",
       "9   Summer     Clothing                  23078\n",
       "0     Fall  Accessories                  19874\n",
       "8   Summer  Accessories                  19028\n",
       "12  Winter  Accessories                  18291\n",
       "4   Spring  Accessories                  17007\n",
       "6   Spring     Footwear                   9555\n",
       "10  Summer     Footwear                   9393\n",
       "2     Fall     Footwear                   8665\n",
       "14  Winter     Footwear                   8480\n",
       "3     Fall    Outerwear                   5259\n",
       "15  Winter    Outerwear                   4562\n",
       "7   Spring    Outerwear                   4425\n",
       "11  Summer    Outerwear                   4278"
      ]
     },
     "execution_count": 37,
     "metadata": {},
     "output_type": "execute_result"
    }
   ],
   "source": [
    "season_total_sales_by_category=df.groupby(['Season', 'Category'], as_index=False).agg({'Purchase Amount (USD)': 'sum'}).sort_values(by='Purchase Amount (USD)', ascending=False)\n",
    "season_total_sales_by_category"
   ]
  },
  {
   "cell_type": "markdown",
   "id": "5bc81ddc",
   "metadata": {
    "papermill": {
     "duration": 0.017283,
     "end_time": "2025-01-04T22:25:27.965369",
     "exception": false,
     "start_time": "2025-01-04T22:25:27.948086",
     "status": "completed"
    },
    "tags": []
   },
   "source": [
    "### We can see that one category is dominating all the other three categories in all four seasons. Surprisingly, Outerwear is performing the best in the fall season, which means that either the customers are buying the outerwear products in the fall season or they are going to competitions to buy the outerwear products. It is a concerning issue because the outerwear sales should be the best in the winter season. We have to do the competition analysis and introduce promotions like Black Friday, Cyber Monday, and Boxing Day, etc, and educate customers about the discounts on our products."
   ]
  },
  {
   "cell_type": "markdown",
   "id": "d503e998",
   "metadata": {
    "papermill": {
     "duration": 0.017318,
     "end_time": "2025-01-04T22:25:28.003609",
     "exception": false,
     "start_time": "2025-01-04T22:25:27.986291",
     "status": "completed"
    },
    "tags": []
   },
   "source": [
    "### Let's drill the above analysis further to see which category is selling the best in which season"
   ]
  },
  {
   "cell_type": "code",
   "execution_count": 38,
   "id": "90dcb0ec",
   "metadata": {
    "execution": {
     "iopub.execute_input": "2025-01-04T22:25:28.041734Z",
     "iopub.status.busy": "2025-01-04T22:25:28.041348Z",
     "iopub.status.idle": "2025-01-04T22:25:28.057451Z",
     "shell.execute_reply": "2025-01-04T22:25:28.056100Z"
    },
    "papermill": {
     "duration": 0.038048,
     "end_time": "2025-01-04T22:25:28.059533",
     "exception": false,
     "start_time": "2025-01-04T22:25:28.021485",
     "status": "completed"
    },
    "tags": []
   },
   "outputs": [
    {
     "data": {
      "text/html": [
       "<div>\n",
       "<style scoped>\n",
       "    .dataframe tbody tr th:only-of-type {\n",
       "        vertical-align: middle;\n",
       "    }\n",
       "\n",
       "    .dataframe tbody tr th {\n",
       "        vertical-align: top;\n",
       "    }\n",
       "\n",
       "    .dataframe thead th {\n",
       "        text-align: right;\n",
       "    }\n",
       "</style>\n",
       "<table border=\"1\" class=\"dataframe\">\n",
       "  <thead>\n",
       "    <tr style=\"text-align: right;\">\n",
       "      <th></th>\n",
       "      <th>Season</th>\n",
       "      <th>Category</th>\n",
       "      <th>Item Purchased</th>\n",
       "      <th>Purchase Amount (USD)</th>\n",
       "    </tr>\n",
       "  </thead>\n",
       "  <tbody>\n",
       "    <tr>\n",
       "      <th>4</th>\n",
       "      <td>Fall</td>\n",
       "      <td>Accessories</td>\n",
       "      <td>Hat</td>\n",
       "      <td>3224</td>\n",
       "    </tr>\n",
       "    <tr>\n",
       "      <th>42</th>\n",
       "      <td>Spring</td>\n",
       "      <td>Clothing</td>\n",
       "      <td>Sweater</td>\n",
       "      <td>3145</td>\n",
       "    </tr>\n",
       "    <tr>\n",
       "      <th>24</th>\n",
       "      <td>Fall</td>\n",
       "      <td>Outerwear</td>\n",
       "      <td>Jacket</td>\n",
       "      <td>3106</td>\n",
       "    </tr>\n",
       "    <tr>\n",
       "      <th>88</th>\n",
       "      <td>Winter</td>\n",
       "      <td>Clothing</td>\n",
       "      <td>Shirt</td>\n",
       "      <td>3102</td>\n",
       "    </tr>\n",
       "    <tr>\n",
       "      <th>82</th>\n",
       "      <td>Winter</td>\n",
       "      <td>Accessories</td>\n",
       "      <td>Sunglasses</td>\n",
       "      <td>3085</td>\n",
       "    </tr>\n",
       "    <tr>\n",
       "      <th>55</th>\n",
       "      <td>Summer</td>\n",
       "      <td>Accessories</td>\n",
       "      <td>Jewelry</td>\n",
       "      <td>3006</td>\n",
       "    </tr>\n",
       "    <tr>\n",
       "      <th>87</th>\n",
       "      <td>Winter</td>\n",
       "      <td>Clothing</td>\n",
       "      <td>Pants</td>\n",
       "      <td>2999</td>\n",
       "    </tr>\n",
       "    <tr>\n",
       "      <th>62</th>\n",
       "      <td>Summer</td>\n",
       "      <td>Clothing</td>\n",
       "      <td>Pants</td>\n",
       "      <td>2886</td>\n",
       "    </tr>\n",
       "    <tr>\n",
       "      <th>85</th>\n",
       "      <td>Winter</td>\n",
       "      <td>Clothing</td>\n",
       "      <td>Hoodie</td>\n",
       "      <td>2850</td>\n",
       "    </tr>\n",
       "    <tr>\n",
       "      <th>40</th>\n",
       "      <td>Spring</td>\n",
       "      <td>Clothing</td>\n",
       "      <td>Skirt</td>\n",
       "      <td>2794</td>\n",
       "    </tr>\n",
       "  </tbody>\n",
       "</table>\n",
       "</div>"
      ],
      "text/plain": [
       "    Season     Category Item Purchased  Purchase Amount (USD)\n",
       "4     Fall  Accessories            Hat                   3224\n",
       "42  Spring     Clothing        Sweater                   3145\n",
       "24    Fall    Outerwear         Jacket                   3106\n",
       "88  Winter     Clothing          Shirt                   3102\n",
       "82  Winter  Accessories     Sunglasses                   3085\n",
       "55  Summer  Accessories        Jewelry                   3006\n",
       "87  Winter     Clothing          Pants                   2999\n",
       "62  Summer     Clothing          Pants                   2886\n",
       "85  Winter     Clothing         Hoodie                   2850\n",
       "40  Spring     Clothing          Skirt                   2794"
      ]
     },
     "execution_count": 38,
     "metadata": {},
     "output_type": "execute_result"
    }
   ],
   "source": [
    "season_total_sales_by_sub_category=df.groupby(['Season', 'Category', 'Item Purchased'], as_index=False).agg({'Purchase Amount (USD)': 'sum'}).sort_values(by='Purchase Amount (USD)', ascending=False)\n",
    "season_total_sales_by_sub_category.head(10)"
   ]
  },
  {
   "cell_type": "markdown",
   "id": "674fd45a",
   "metadata": {
    "papermill": {
     "duration": 0.016583,
     "end_time": "2025-01-04T22:25:28.093956",
     "exception": false,
     "start_time": "2025-01-04T22:25:28.077373",
     "status": "completed"
    },
    "tags": []
   },
   "source": [
    "### After drilling the above analysis further, we can see what we sell in the subcategories. With the help of this table, we can manage the inventory so that we do not disappoint our customers and try to bring as much variety as possible in order to sell more of these products"
   ]
  },
  {
   "cell_type": "markdown",
   "id": "ad8cc394",
   "metadata": {
    "execution": {
     "iopub.execute_input": "2025-01-04T22:22:56.234735Z",
     "iopub.status.busy": "2025-01-04T22:22:56.234314Z",
     "iopub.status.idle": "2025-01-04T22:22:56.251157Z",
     "shell.execute_reply": "2025-01-04T22:22:56.250025Z",
     "shell.execute_reply.started": "2025-01-04T22:22:56.234680Z"
    },
    "papermill": {
     "duration": 0.01662,
     "end_time": "2025-01-04T22:25:28.127711",
     "exception": false,
     "start_time": "2025-01-04T22:25:28.111091",
     "status": "completed"
    },
    "tags": []
   },
   "source": [
    "### You can take help from the above analysis and analyze for location as well."
   ]
  },
  {
   "cell_type": "markdown",
   "id": "ccf6a73f",
   "metadata": {
    "papermill": {
     "duration": 0.018079,
     "end_time": "2025-01-04T22:25:28.163827",
     "exception": false,
     "start_time": "2025-01-04T22:25:28.145748",
     "status": "completed"
    },
    "tags": []
   },
   "source": [
    "## Thank you!"
   ]
  }
 ],
 "metadata": {
  "kaggle": {
   "accelerator": "none",
   "dataSources": [
    {
     "datasetId": 6149964,
     "sourceId": 9992547,
     "sourceType": "datasetVersion"
    }
   ],
   "dockerImageVersionId": 30822,
   "isGpuEnabled": false,
   "isInternetEnabled": false,
   "language": "python",
   "sourceType": "notebook"
  },
  "kernelspec": {
   "display_name": "Python 3",
   "language": "python",
   "name": "python3"
  },
  "language_info": {
   "codemirror_mode": {
    "name": "ipython",
    "version": 3
   },
   "file_extension": ".py",
   "mimetype": "text/x-python",
   "name": "python",
   "nbconvert_exporter": "python",
   "pygments_lexer": "ipython3",
   "version": "3.10.12"
  },
  "papermill": {
   "default_parameters": {},
   "duration": 8.966541,
   "end_time": "2025-01-04T22:25:28.902141",
   "environment_variables": {},
   "exception": null,
   "input_path": "__notebook__.ipynb",
   "output_path": "__notebook__.ipynb",
   "parameters": {},
   "start_time": "2025-01-04T22:25:19.935600",
   "version": "2.6.0"
  }
 },
 "nbformat": 4,
 "nbformat_minor": 5
}
